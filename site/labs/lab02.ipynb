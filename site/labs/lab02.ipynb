{
 "cells": [
  {
   "cell_type": "markdown",
   "metadata": {
    "deletable": true,
    "editable": true
   },
   "source": [
    "## `lab01`—The Python Lab and Linux Command Line"
   ]
  },
  {
   "cell_type": "markdown",
   "metadata": {
    "deletable": true,
    "editable": true
   },
   "source": [
    "**Objectives**\n",
    "\n",
    "-   Access the online Jupyter notebook system for labs.\n",
    "-   Understand various ways of writing text as strings.\n",
    "-   Compose compound expressions to calculate mathematical formulae.\n",
    "-   Run a python script from command line window"
   ]
  },
  {
   "cell_type": "markdown",
   "metadata": {
    "deletable": true,
    "editable": true
   },
   "source": [
    "### How to use the online Python notebook server."
   ]
  },
  {
   "cell_type": "markdown",
   "metadata": {
    "deletable": true,
    "editable": true
   },
   "source": [
    "This document will use a few standard conventions that you should be aware of:\n",
    "\n",
    "    # This is a nonexecutable code block.\n",
    "    # Things which are written here represent Python code (or pseudocode)\n",
    "    # but are not executable---\n",
    "    # see the executable code cells following for code that you can run in place.\n",
    "\n",
    "<div class=\"alert alert-warning\">\n",
    "This is a *warning* block.  You should always carefully read this information since it will materially impact your ability to complete the lab exercises successfully, or your ability to use Python to solve problems.\n",
    "</div>\n",
    "\n",
    "<div class=\"alert alert-info\">\n",
    "This is an *info* block.  You can safely ignore this information for completing your lab exercises, but may find it to be interesting and useful in your broader scholarship and career.\n",
    "</div>"
   ]
  },
  {
   "cell_type": "markdown",
   "metadata": {
    "deletable": true,
    "editable": true
   },
   "source": [
    "The following grey cell, in contrast, is an executable *code cell*.  (As an aside, you do not need to understand the details of the Python code in this lab.  We'll cover all you need in the next few weeks.)\n",
    "\n",
    "Code cells require you to enter Python code (or just read what's already there), and then to execute the cell when you are ready to proceed with the lab.  To do so, select inside of the cell and press Ctrl+Enter."
   ]
  },
  {
   "cell_type": "code",
   "execution_count": null,
   "metadata": {
    "collapsed": false,
    "deletable": true,
    "editable": true,
    "scrolled": true
   },
   "outputs": [],
   "source": [
    "1 + 2"
   ]
  },
  {
   "cell_type": "markdown",
   "metadata": {
    "deletable": true,
    "editable": true
   },
   "source": [
    "Note that two things happened.  One is that the `In []` gained a number—this is the number of the input you have executed in the notebook.  The absolute number almost never matters, but the *order* often does.  You can execute cells out of order, so you have to be sure that if you change one thing later cells are in fact written with the updated value in mind.\n",
    "\n",
    "The other thing that happened is that the cell returned a value to you as an output.  This may not always happen, but in the case of single-line expressions like mathematical formulae it often will.  If you need explicit output, you can use a `print` function:"
   ]
  },
  {
   "cell_type": "code",
   "execution_count": null,
   "metadata": {
    "collapsed": false,
    "deletable": true,
    "editable": true
   },
   "outputs": [],
   "source": [
    "print('Four times five equals', 4 * 5)"
   ]
  },
  {
   "cell_type": "markdown",
   "metadata": {
    "deletable": true,
    "editable": true
   },
   "source": [
    "You can input multiple lines into a code cell and execute them as a block.  The following cell contains a very short program which counts down from ten and then prints a message."
   ]
  },
  {
   "cell_type": "code",
   "execution_count": null,
   "metadata": {
    "collapsed": false,
    "deletable": true,
    "editable": true
   },
   "outputs": [],
   "source": [
    "for counter in range(10,0,-1):\n",
    "    print(counter)\n",
    "print('Blast off!')"
   ]
  },
  {
   "cell_type": "markdown",
   "metadata": {
    "deletable": true,
    "editable": true
   },
   "source": [
    "Here are a couple more.  (Don't worry about the specifics of the code—in a few weeks you'll be able to come back and understand it all perfectly.)"
   ]
  },
  {
   "cell_type": "code",
   "execution_count": null,
   "metadata": {
    "collapsed": false,
    "deletable": true,
    "editable": true
   },
   "outputs": [],
   "source": [
    "# Transform a message with underscores and spaces.\n",
    "msg = 'Life is too short to remove a USB drive safely.'\n",
    "print(' '.join(msg.replace(' ','_')*3))"
   ]
  },
  {
   "cell_type": "code",
   "execution_count": null,
   "metadata": {
    "collapsed": false,
    "deletable": true,
    "editable": true
   },
   "outputs": [],
   "source": [
    "# Find palindromic prime numbers from n = 2 to 7**5=16807.\n",
    "n = 1\n",
    "for x in range(n+1, 7**5):\n",
    "    if repr(x) == repr(x)[::-1] * all(x%i for i in range(2,x)):\n",
    "        print(x)"
   ]
  },
  {
   "cell_type": "markdown",
   "metadata": {
    "deletable": true,
    "editable": true
   },
   "source": [
    "Try double-clicking on this text (**right here**).  When you do so, the cell changes to a grey editable field.  This may happen occasionally by accident (or on purpose), but to view the regular text like in the rest of this lab, select inside this cell and press Ctrl+Enter."
   ]
  },
  {
   "cell_type": "markdown",
   "metadata": {
    "deletable": true,
    "editable": true
   },
   "source": [
    "The next pair of cells is a different animal—these are graded cells, which means that the first cell of the pair will contain the code you need to write (the *answer*), and the second cell contains the *test* or tests which your code needs to pass.\n",
    "\n",
    "Just go ahead and execute the answer cell to test it out.  The test cell will be given to you so that you can understand an assignment's expectations.  If you run a test cell, it will often fail unless you have already composed correct code, so don't worry about it until you are wrapping up an assignment."
   ]
  },
  {
   "cell_type": "code",
   "execution_count": null,
   "metadata": {
    "collapsed": false,
    "deletable": true,
    "editable": true,
    "nbgrader": {
     "grade": false,
     "grade_id": "simple",
     "locked": false,
     "solution": true
    }
   },
   "outputs": [],
   "source": [
    "message = \"Let me never fall into the vulgar mistake of dreaming that I am persecuted whenever I am contradicted. (Ralph Waldo Emerson)\"\n",
    "print(message)"
   ]
  },
  {
   "cell_type": "code",
   "execution_count": null,
   "metadata": {
    "collapsed": false,
    "deletable": true,
    "editable": true,
    "nbgrader": {
     "grade": true,
     "grade_id": "simple-test",
     "locked": true,
     "points": 1,
     "solution": false
    }
   },
   "outputs": [],
   "source": [
    "# This is a test cell.  You should not modify its contents in any way.\n",
    "assert len(message) == 124\n",
    "print('Success!')"
   ]
  },
  {
   "cell_type": "markdown",
   "metadata": {
    "deletable": true,
    "editable": true,
    "nbgrader": {
     "grade": false,
     "locked": false,
     "solution": false
    }
   },
   "source": [
    "The next pair requires you to make a small change.  You need to *uncomment* a single line of code—in this case, that just means selecting inside of the cell and deleting the `#` at the beginning of the line.  This makes the answer cell satisfy the test below."
   ]
  },
  {
   "cell_type": "code",
   "execution_count": 3,
   "metadata": {
    "collapsed": false,
    "deletable": true,
    "editable": true,
    "nbgrader": {
     "grade": false,
     "grade_id": "change",
     "locked": false,
     "solution": true
    }
   },
   "outputs": [],
   "source": [
    "e = 2.71828\n",
    "exponent = 5\n",
    "value = e ** exponent\n",
    "\n",
    "#value = value * 2\n"
   ]
  },
  {
   "cell_type": "code",
   "execution_count": null,
   "metadata": {
    "collapsed": false,
    "deletable": true,
    "editable": true,
    "nbgrader": {
     "grade": true,
     "grade_id": "change-test",
     "locked": true,
     "points": 1,
     "solution": false
    }
   },
   "outputs": [],
   "source": [
    "# This is a test cell.  You should not modify its contents in any way.\n",
    "assert value == 2 * e ** exponent\n",
    "print('Success!')"
   ]
  },
  {
   "cell_type": "markdown",
   "metadata": {
    "deletable": true,
    "editable": true
   },
   "source": [
    "### How to write text to s"
   ]
  },
  {
   "cell_type": "markdown",
   "metadata": {
    "deletable": true,
    "editable": true
   },
   "source": [
    "Numbers are never enough—you use them to get the math right, but when it comes time to communicating the results to the outside world, you need text.  In programming terms, we refer to a block of text as a *string* (from a string of characters).  Some messages are hard-coded, like error messages; others will be generated as necessary by the program.\n",
    "\n",
    "Since we communicate with the Python intepreter using text commands, we also need a way to distinguish between instructions to the machine (code) and messages written as text (strings).  In other words, we need Python to distinguish between"
   ]
  },
  {
   "cell_type": "code",
   "execution_count": null,
   "metadata": {
    "collapsed": false
   },
   "outputs": [],
   "source": [
    "print(hello world)"
   ]
  },
  {
   "cell_type": "markdown",
   "metadata": {},
   "source": [
    "and"
   ]
  },
  {
   "cell_type": "code",
   "execution_count": null,
   "metadata": {
    "collapsed": true
   },
   "outputs": [],
   "source": [
    "print('hello world')"
   ]
  },
  {
   "cell_type": "markdown",
   "metadata": {},
   "source": [
    "The string holds the words within quotes as a single unit.  We typically write strings by surrounding our text in single quotes `''` or double quotes `\"\"`:"
   ]
  },
  {
   "cell_type": "code",
   "execution_count": null,
   "metadata": {
    "collapsed": true
   },
   "outputs": [],
   "source": [
    "'All that glitters is not gold.'"
   ]
  },
  {
   "cell_type": "code",
   "execution_count": null,
   "metadata": {
    "collapsed": true
   },
   "outputs": [],
   "source": [
    "'Who knows what evil lurks in the hearts of men?  The Shadow knows.'"
   ]
  },
  {
   "cell_type": "code",
   "execution_count": null,
   "metadata": {
    "collapsed": true
   },
   "outputs": [],
   "source": [
    "'I'm sorry, Dave, I'm afraid I can't do that.'"
   ]
  },
  {
   "cell_type": "markdown",
   "metadata": {},
   "source": [
    "That last one has a problem, doesn't it? We wrote a string by marking the ends with single quotes ', but then used a single quote inside of the string.  This thoroughly confused Python, as you can see by the red and black text mixed.\n",
    "\n",
    "This is why Python lets you use either single or double quotes:"
   ]
  },
  {
   "cell_type": "code",
   "execution_count": null,
   "metadata": {
    "collapsed": true
   },
   "outputs": [],
   "source": [
    "\"I'm afraid I can't do that.\""
   ]
  },
  {
   "cell_type": "code",
   "execution_count": null,
   "metadata": {
    "collapsed": false
   },
   "outputs": [],
   "source": [
    "'They Call the Wind \"Maria\"'"
   ]
  },
  {
   "cell_type": "markdown",
   "metadata": {},
   "source": [
    "Write the following phrases as Python strings.  (You can copy and paste the text itself into the string.)"
   ]
  },
  {
   "cell_type": "markdown",
   "metadata": {},
   "source": [
    "- George Orwell's novel 1984"
   ]
  },
  {
   "cell_type": "code",
   "execution_count": null,
   "metadata": {
    "collapsed": true
   },
   "outputs": [],
   "source": []
  },
  {
   "cell_type": "markdown",
   "metadata": {},
   "source": [
    "- This is a straight double quote, \", while these are curly double quotes: “, ”."
   ]
  },
  {
   "cell_type": "code",
   "execution_count": null,
   "metadata": {
    "collapsed": true
   },
   "outputs": [],
   "source": []
  },
  {
   "cell_type": "markdown",
   "metadata": {},
   "source": [
    "If things get really hairy, you can also use triple-quotes to mark a string:"
   ]
  },
  {
   "cell_type": "code",
   "execution_count": null,
   "metadata": {
    "collapsed": false
   },
   "outputs": [],
   "source": [
    "'''She then turned and asked the librarian, \"Do you have a copy of Diderot's and d'Alembert's Encyclopedie?\"'''"
   ]
  },
  {
   "cell_type": "markdown",
   "metadata": {},
   "source": [
    "<div class=\"alert alert-info\">\n",
    "Notice that the string returned by Python consists of *single quotes* wrapping a sentence containing *double quotes*, which then contain more *single quotes*.  The inner single quotes have a backslash in front of them—this is called an *escape character*, which is a fancy way of saying that the backslash tells Python to treat the single quote as a 'quote' rather than as marking the beginning or end of a string.\n",
    "</div>"
   ]
  },
  {
   "cell_type": "markdown",
   "metadata": {},
   "source": [
    "### How to store a value for future use"
   ]
  },
  {
   "cell_type": "markdown",
   "metadata": {},
   "source": [
    "In physics and engineering, we often worked with labeled unknowns, called *variables*.  This lets us refer to physical or mathematical values without knowing the value ahead of time.  For instance, the ideal gas law represents the relationship between pressure $P$, temperature $T$, and volume $V$, written as\n",
    "\n",
    "$$\n",
    "PV \\propto T \\text{.}\n",
    "$$\n",
    "\n",
    "We can express the relationship between these physical quantities without referring to specific values.\n",
    "\n",
    "For a computer, variables work much the same way—you can use them to write expressions and formulas, and you can use them to store the results of past calculations.  You create a variable using the assignment operator `=` and reuse it using the same name in subsequent expressions:"
   ]
  },
  {
   "cell_type": "code",
   "execution_count": null,
   "metadata": {
    "collapsed": true
   },
   "outputs": [],
   "source": [
    "x = 5"
   ]
  },
  {
   "cell_type": "code",
   "execution_count": null,
   "metadata": {
    "collapsed": true
   },
   "outputs": [],
   "source": [
    "x"
   ]
  },
  {
   "cell_type": "code",
   "execution_count": null,
   "metadata": {
    "collapsed": true
   },
   "outputs": [],
   "source": [
    "x**2"
   ]
  },
  {
   "cell_type": "code",
   "execution_count": null,
   "metadata": {
    "collapsed": true
   },
   "outputs": [],
   "source": [
    "x%2"
   ]
  },
  {
   "cell_type": "code",
   "execution_count": null,
   "metadata": {
    "collapsed": true
   },
   "outputs": [],
   "source": [
    "x**x"
   ]
  },
  {
   "cell_type": "code",
   "execution_count": null,
   "metadata": {
    "collapsed": true
   },
   "outputs": [],
   "source": [
    "x/x"
   ]
  },
  {
   "cell_type": "markdown",
   "metadata": {},
   "source": [
    "You update the value of a variable by simply overwriting it:"
   ]
  },
  {
   "cell_type": "code",
   "execution_count": null,
   "metadata": {
    "collapsed": true
   },
   "outputs": [],
   "source": [
    "x = 4.5"
   ]
  },
  {
   "cell_type": "code",
   "execution_count": null,
   "metadata": {
    "collapsed": true
   },
   "outputs": [],
   "source": [
    "x"
   ]
  },
  {
   "cell_type": "code",
   "execution_count": null,
   "metadata": {
    "collapsed": true
   },
   "outputs": [],
   "source": [
    "x**2"
   ]
  },
  {
   "cell_type": "markdown",
   "metadata": {},
   "source": [
    "In fact, you can even use a variable's *former* value to give it a *new* value:"
   ]
  },
  {
   "cell_type": "code",
   "execution_count": null,
   "metadata": {
    "collapsed": true
   },
   "outputs": [],
   "source": [
    "x = 2*x"
   ]
  },
  {
   "cell_type": "markdown",
   "metadata": {},
   "source": [
    "If you missed it in the second lecture, stop and think about this for a moment, because it's very important.  If you were to write down the mathematical statement\n",
    "\n",
    "$$\n",
    "x = 2x \\text{,}\n",
    "$$\n",
    "\n",
    "there is *no solution*—$x$ divides out of both sides and you are left with the mathematical absurdity $1=2$.  You should *not think* of the assignment operator as reading \"equals\".  That is, `x = 2x` should be read by you as \"`x` is made equal to the value of 2 times `x`\".\n",
    "\n",
    "<div class=\"alert alert-warning\">\n",
    "The *assignment* operator is a single equals sign, `=`, read \"is made equal to\".\n",
    "<br/>\n",
    "The *equality* operator is a double equals sign, `==`, read \"equals\".\n",
    "</div>"
   ]
  },
  {
   "cell_type": "markdown",
   "metadata": {},
   "source": [
    "As you saw in the lecture, you can use much more involved variable names, which is a great idea if you don't want to lose track of what you're doing."
   ]
  },
  {
   "cell_type": "code",
   "execution_count": null,
   "metadata": {
    "collapsed": true
   },
   "outputs": [],
   "source": [
    "trees_observed = 4\n",
    "max_torque = 5.0\n",
    "middleInitial = 'L'\n",
    "finalSum = 107\n",
    "way_to_Tipperary = 'east-north-east'\n",
    "warning_msg = \"I am Jack's medulla oblongata.\""
   ]
  },
  {
   "cell_type": "markdown",
   "metadata": {},
   "source": [
    "A few possible names do not, in fact, work:"
   ]
  },
  {
   "cell_type": "code",
   "execution_count": null,
   "metadata": {
    "collapsed": true
   },
   "outputs": [],
   "source": [
    "1st = 16.5"
   ]
  },
  {
   "cell_type": "code",
   "execution_count": null,
   "metadata": {
    "collapsed": true
   },
   "outputs": [],
   "source": [
    "$ = 2"
   ]
  },
  {
   "cell_type": "markdown",
   "metadata": {},
   "source": [
    "<div class=\"alert alert-warning\">\n",
    "The error that occurs in both of these cases, `SyntaxError`, generally means that you've mistyped something or tried to express something impossible by the rules of Pythonic syntax. Basically, as long as you use only letters, numbers, and the underscore `_` in your variable names, you'll be fine.\n",
    "</div>"
   ]
  },
  {
   "cell_type": "markdown",
   "metadata": {},
   "source": [
    "### How variables make your life easier"
   ]
  },
  {
   "cell_type": "markdown",
   "metadata": {},
   "source": [
    "Imagine writing a long script which depends on the value of a heat flux operator with the value $7.9 \\,\\text{watts}\\cdot\\text{meter}^{-2}\\cdot\\text{kelvin}$.  You dutifully write the statements to calculate the heat transfer through the wall with a difference of $\\Delta T = 1.2 \\,\\text{kelvin}$ using the value `7.9`:"
   ]
  },
  {
   "cell_type": "code",
   "execution_count": null,
   "metadata": {
    "collapsed": true
   },
   "outputs": [],
   "source": [
    "print(\"The heat transfer is %f W/m**2.\" % (7.9 * 1.2))"
   ]
  },
  {
   "cell_type": "markdown",
   "metadata": {},
   "source": [
    "You may have already noticed the problem here—what happens when the problem changes slightly and you need to use a different heat flux operator value?  This is where variables shine:\n",
    "\n",
    "$$\n",
    "q = h \\Delta T\n",
    "$$\n",
    "\n",
    "If you set things up properly, you will only have to define a value for $h$ and $\\Delta T$ once, at the beginning of your script, and it will be the same throughout the program.  Otherwise, you might have had to search and replace every single instance—and hope you didn't miss one!"
   ]
  },
  {
   "cell_type": "code",
   "execution_count": null,
   "metadata": {
    "collapsed": true
   },
   "outputs": [],
   "source": [
    "h = 7.9     # heat transfer coef, W/m^2/deg C\n",
    "DT = 1.2    # difference in temperature between fluid and surface, deg C\n",
    "q = h * DT  # heat flux or amount of heat transferred, W/m^2\n",
    "\n",
    "print(\"The heat transfer is %f W/m**2.\" % q)\n",
    "\n",
    "DT = 1.3\n",
    "q = h * DT  # heat flux or amount of heat transferred, W/m^2\n",
    "\n",
    "print(\"The heat transfer is %f W/m**2.\" % q)"
   ]
  },
  {
   "cell_type": "markdown",
   "metadata": {},
   "source": [
    "<div class=\"alert alert-info\">\n",
    "Note as well that since physical quantities always have physical dimensions, you should always document these with the value (or include a note to the effect that all values are [SI](https://en.wikipedia.org/wiki/International_System_of_Units), [CGS](https://en.wikipedia.org/wiki/Centimetre%E2%80%93gram%E2%80%93second_system_of_units), [FPS](https://en.wikipedia.org/wiki/Foot%E2%80%93pound%E2%80%93second_system), etc.).\n",
    "<pre><code>max_torque = 5.0  # N*m</code></pre>\n",
    "A brief explanation may be helpful as well:\n",
    "<pre><code>dx = 1e-2  # mesh discretization, m</code></pre>\n",
    "Form this habit now and it will serve you well as you begin writing code, scripts, and longer programs.\n",
    "</div>"
   ]
  },
  {
   "cell_type": "markdown",
   "metadata": {},
   "source": [
    "-   Correct the following code snippet to use variables `v` and `a` instead of hard-coded values."
   ]
  },
  {
   "cell_type": "code",
   "execution_count": null,
   "metadata": {
    "collapsed": true
   },
   "outputs": [],
   "source": [
    "# modify this code\n",
    "# the base equation is:\n",
    "# d = v*t + 0.5*a*t*t\n",
    "t = 10.0\n",
    "d = 5.0 * t + 0.5 * -9.8 * t ** 2"
   ]
  },
  {
   "cell_type": "code",
   "execution_count": null,
   "metadata": {
    "collapsed": true
   },
   "outputs": [],
   "source": [
    "# it should pass this test---do NOT edit this cell\n",
    "from numpy import isclose\n",
    "t = 10.0\n",
    "d = v*t + 0.5*a*t**2\n",
    "assert isclose(d, -440)\n",
    "print('Success!')"
   ]
  },
  {
   "cell_type": "markdown",
   "metadata": {},
   "source": [
    "### Building expressions using operators"
   ]
  },
  {
   "cell_type": "markdown",
   "metadata": {},
   "source": [
    "You've seen basic expressions in the lab and in the homework.  Let's build some more complicated expressions now to serve us in real model-building later."
   ]
  },
  {
   "cell_type": "markdown",
   "metadata": {},
   "source": [
    "-   Write an expression describing the quadratic formula,\n",
    "    $$\n",
    "    x = -b + \\frac{\\sqrt{b^2-4ac}}{2a} \\text{.}\n",
    "    $$\n",
    "    \n",
    "    Use the following variable values in your solution:"
   ]
  },
  {
   "cell_type": "code",
   "execution_count": null,
   "metadata": {
    "collapsed": true
   },
   "outputs": [],
   "source": [
    "a = 1\n",
    "b = 2\n",
    "c = 1"
   ]
  },
  {
   "cell_type": "code",
   "execution_count": null,
   "metadata": {
    "collapsed": true
   },
   "outputs": [],
   "source": [
    "# write a formula for x here"
   ]
  },
  {
   "cell_type": "code",
   "execution_count": null,
   "metadata": {
    "collapsed": true
   },
   "outputs": [],
   "source": [
    "# it should pass this test---do NOT edit this cell\n",
    "assert x == -2.0\n",
    "print('Success!')"
   ]
  },
  {
   "cell_type": "markdown",
   "metadata": {},
   "source": [
    "-   Write an expression describing the conversion of a degree/minute/second latitude value $d°m′s″$ into an equivalent decimal latitude value $\\ell$,\n",
    "    $$\n",
    "    \\ell = d + \\frac{m}{60} + \\frac{s}{3600} \\text{.}\n",
    "    $$\n",
    "    \n",
    "    Call your Python variable containing the result `lat` instead of `l`."
   ]
  },
  {
   "cell_type": "code",
   "execution_count": null,
   "metadata": {
    "collapsed": true
   },
   "outputs": [],
   "source": [
    "d = 22\n",
    "m = 30\n",
    "s = 120"
   ]
  },
  {
   "cell_type": "code",
   "execution_count": null,
   "metadata": {
    "collapsed": true
   },
   "outputs": [],
   "source": [
    "# write a formula for lat here"
   ]
  },
  {
   "cell_type": "code",
   "execution_count": null,
   "metadata": {
    "collapsed": true
   },
   "outputs": [],
   "source": [
    "# it should pass this test---do NOT edit this cell\n",
    "from numpy import isclose\n",
    "assert isclose(lat, 22.53333)\n",
    "print('Success!')"
   ]
  },
  {
   "cell_type": "markdown",
   "metadata": {},
   "source": [
    "-   Write an expression describing the period of a pendulum for small amplitudes,\n",
    "    $$\n",
    "    T = 2\\pi \\sqrt\\frac{L}{g} \\text{.}\n",
    "    $$"
   ]
  },
  {
   "cell_type": "code",
   "execution_count": null,
   "metadata": {
    "collapsed": true
   },
   "outputs": [],
   "source": [
    "from math import pi\n",
    "L = 0.72  # cm\n",
    "g = 9.8   # acceleration due to gravity."
   ]
  },
  {
   "cell_type": "code",
   "execution_count": null,
   "metadata": {
    "collapsed": true
   },
   "outputs": [],
   "source": [
    "# write a formula for T here, using pi (and not an approximation)"
   ]
  },
  {
   "cell_type": "code",
   "execution_count": null,
   "metadata": {
    "collapsed": true
   },
   "outputs": [],
   "source": [
    "# it should pass this test---do NOT edit this cell\n",
    "from numpy import isclose\n",
    "assert isclose(T, 1.70307)\n",
    "print('Success!')"
   ]
  },
  {
   "cell_type": "markdown",
   "metadata": {},
   "source": [
    "A very common pattern is to need to add a value to a variable, and then to store the result of that addition as a new variable. Consider:\n",
    "    \n",
    "    sum = 0\n",
    "    sum = sum + 5  # the value of sum is now 5\n",
    "    sum = sum + 4  # the value of sum is now 5 + 4 = 9\n",
    "    sum = sum + 3  # the value of sum is now 9 + 3 = 12\n",
    "\n",
    "Since this type of statement occurs a lot, Python has a shorthand way of writing the statement:\n",
    "    \n",
    "    sum += 5"
   ]
  },
  {
   "cell_type": "markdown",
   "metadata": {},
   "source": [
    "-   Using the `+=` and `-=` operators, add the following sequence of charges to the `charge` variable:\n",
    "    $$\n",
    "    +1, -2, -1, +2, +3\n",
    "    $$"
   ]
  },
  {
   "cell_type": "code",
   "execution_count": null,
   "metadata": {
    "collapsed": true
   },
   "outputs": [],
   "source": [
    "charge = +2  # ion charge"
   ]
  },
  {
   "cell_type": "code",
   "execution_count": null,
   "metadata": {
    "collapsed": true
   },
   "outputs": [],
   "source": [
    "# write your series of +=, -= statements here"
   ]
  },
  {
   "cell_type": "code",
   "execution_count": null,
   "metadata": {
    "collapsed": true
   },
   "outputs": [],
   "source": [
    "# it should pass this test---do NOT edit this cell\n",
    "assert charge == +5\n",
    "print('Success!')"
   ]
  },
  {
   "cell_type": "markdown",
   "metadata": {
    "deletable": true,
    "editable": true
   },
   "source": [
    "#### How to run a Python *script*"
   ]
  },
  {
   "cell_type": "markdown",
   "metadata": {
    "deletable": true,
    "editable": true
   },
   "source": [
    "There are three different ways to run Python code as a program.\n",
    "\n",
    "1.  One is what you are doing here—as part of a **notebook** in separate cells.  In this case, any data or values you introduce are stored and operated on by the notebook server, called Jupyter.\n",
    "    \n",
    "    Although you can access this CS 101 server and the notebooks you have created online throughout the semester, you may want to keep a copy of your completed lab assignments so that you have a record for future reference.  In that case, you should select *File→Download as→* and either *IPython Notebook  (.ipynb)* or *HTML (.html)*.  You can save a copy wherever you like on the local file system.\n",
    "\n",
    "    <div class=\"alert alert-info\">\n",
    "    IPython is an older name for Jupyter, and you may hear it occasionally used by your TA or other programmers.\n",
    "    </div>\n",
    "\n",
    "2.  Another way is to feed your code line-by-line into a Python **interpreter**, which executes each line in turn and gives you the result of that piece of code.  This is an excellent way to explore data, for instance, or to test ideas once you are more familiar with Python. We are going to lauch a Python interpreter from a Linux system.\n",
    "\n",
    "    A. Now open python interpreter in terminal with the following command line:    \n",
    "       <div style=\"background-color: #f7f7f9; border: 1px solid #e1e1e8;\"><code style=\"background-color: transparent;\">python\n",
    "</code></div>\n",
    "    B. Now you can try the python script lines from the python interpreter as you did earlier on the Python notebook server. For example, try the following:\n",
    "       <div style=\"background-color: #f7f7f9; border: 1px solid #e1e1e8;\"><code style=\"background-color: transparent;\">>>>print('hello world')\n",
    " >>>1 + 2\n",
    " >>>2 ** 64\n",
    " >>>for counter in range(10,0,-1):\n",
    " ...   print(counter)\n",
    " ...[press enter]\n",
    "</code></div>\n",
    "\n",
    "    C. To Exit Python and return to the terminal environment, press \"Ctrl + Z\".\n",
    "\n",
    "3.  Finally, you can save a block of code as a **script**, which is like connecting a bunch of notebook cells together in one spot.  This is the most frequent way that Python is used, since it lets you run computations and data analyses without having to manually monitor your machine (like you do in a notebook).\n",
    "    \n",
    "    For instance, we will consider a version of the countdown program you used above.  The code is basically identical, but instead of being in a notebook cell it is saved as a text file with the `.py` suffix.\n",
    "    \n",
    "    1.  Download the python script `rocket.py` from the Lab #1 section on course website. Save it to your home directory (C:\\Users\\\\[yourID].INTL\\\\)\n",
    "    2.  Next, execute the script by typing the following at the prompt and pressing Enter.\n",
    "            \n",
    "        <div style=\"background-color: #f7f7f9; border: 1px solid #e1e1e8;\"><code style=\"background-color: transparent;\">python rocket.py\n",
    "        </code></div>\n",
    "        \n",
    "        You should see the same output at the command line as you previously saw with the code in the cell above."
   ]
  },
  {
   "cell_type": "markdown",
   "metadata": {
    "deletable": true,
    "editable": true
   },
   "source": [
    "<div class=\"alert alert-info\">\n",
    "<p>You may hear the terms *Unix* and *Linux* being used interchangeably.  Unix properly refers to an operating system developed in 1972 at Bell Labs and its descendants and re-implementations (including Mac OS X).  Unix was widely successfully due to its locally minimalist, globally expansionist philosophy. What I mean by this is that Unix prefers small simple programs which carry out one task and do it extremely well, but contains a legion of such programs.</p>\n",
    "\n",
    "<p>Linux has been developed as an independent project since 1991.  Linux largely reimplements Unix's functionality but with an open source policy of providing the source code to all features.  This openness has served it well in the computational science and scientific computing communities, which appreciated the ability to look inside of programs and thus verify numerics and algorithms.</p>\n",
    "</div>"
   ]
  },
  {
   "cell_type": "markdown",
   "metadata": {
    "deletable": true,
    "editable": true
   },
   "source": [
    "### Lab Session Logistics"
   ]
  },
  {
   "cell_type": "markdown",
   "metadata": {
    "deletable": true,
    "editable": true
   },
   "source": [
    "Questions about homework assignments, lecture materials, etc. should be posted to the [CS 101 discussion forum on Blackboard](https://c.zju.edu.cn/)."
   ]
  },
  {
   "cell_type": "markdown",
   "metadata": {
    "deletable": true,
    "editable": true
   },
   "source": [
    "You may always ask the instructors in office hours for help on assignments.  Throughout the semester, we will occasionally refer you to Python tutorials and reference pages.  You may freely use the resources we introduce to you to finish your exercises (although you may not directly copy code—more on that in a moment).\n",
    "\n",
    "You should do your own work, but some amount of interaction with your peers is expected.  What is the appropriate amount of help to request (or offer)?\n",
    "\n",
    "Our philosophy in this course is based on the fact that (in real life) most of the time you have access to many resources:  websites, peers, mentors, books, and others' source code.  Your competence will be greatly increased by the resources you can use without recourse to external references.  We recognize that when learning it only makes sense to let you function in a realistic manner.  Our official policy is the following:\n",
    "\n",
    "<div class=\"alert alert-warning\">\n",
    "For lab exercises and homework, you should work alone unless told otherwise, but you may consult outside sources of information as long as you do not copy that source's work verbatim (*i.e.*, write your own code!) and you cite all sources used and the contribution they made to your work.\n",
    "</div>\n",
    "\n",
    "This policy is designed to protect you against plagiarism without being *carte blanche* to skip doing the work yourself.\n",
    "\n",
    "What is plagiarism? The university defines it thusly:\n",
    "<blockquote>\n",
    "Plagiarism is using others' ideas and/or words without clearly acknowledging the source of that information. Students may plagiarize very deliberately (e.g., copying or purchasing papers from an online source), or they may not realize what they are doing, which is sometimes the case when students fail to give credit for authors' ideas that they have paraphrased or summarized in their own words.<sup>[[Illinois2014]](http://engineering.illinois.edu/online/current-students/Policies/academic-integrity.html)</sup>\n",
    "</blockquote>\n",
    "\n",
    "What about using books or programming websites? Again, make sure that you don't copy the source's code verbatim and that you cite the work and its contribution.  There will be a spot for you to \n",
    "\n",
    "Pair exercises need not include a note about peer consultation."
   ]
  },
  {
   "cell_type": "markdown",
   "metadata": {
    "deletable": true,
    "editable": true
   },
   "source": [
    "#### How to keep your work secure"
   ]
  },
  {
   "cell_type": "markdown",
   "metadata": {
    "deletable": true,
    "editable": true
   },
   "source": [
    "Your labs and homework assignments should be completed separately unless you are explicitly told to work in pairs.  In order to keep your work secure and protect yourself against accusations of plagiarism if you need to leave your workstation for a few minutes, please take advantage of Linux's \"Lock Screen\" feature, found on the main (Linux) toolbar at *System→Lock Screen*.\n",
    "\n",
    "At the completion of your day's lab work, you should always log out of the system completely.  When you are ready to do so, from the main toolbar select *System→Log Out*.\n",
    "\n",
    "*Since all the machines are logged in without account and password requirement, remember to keep a copy of all your lab session files to your own computer, and remove all the files you've created on the lab machine.*"
   ]
  },
  {
   "cell_type": "markdown",
   "metadata": {
    "deletable": true,
    "editable": true
   },
   "source": [
    "#### Attendance and grading policy"
   ]
  },
  {
   "cell_type": "markdown",
   "metadata": {
    "deletable": true,
    "editable": true
   },
   "source": [
    "The labs collectively constitute 25% of your grade in CS 101.  Although they will gradually increase in difficulty, you should be able to complete the lab exercises in the 1h50min period allotted to you.  **You have 1 hour and 50 minutes to complete the lab and late submissions will not be tolerated**, since the labs are running at the capacity of the room.\n",
    "\n",
    "A corollary policy is that you should always attend your assigned lab section.  **Attendance and submission of your work will be graded on that basis, and failure to attend the proper section in which you are enrolled may lead to a grade of zero on that lab.**  Any exceptions must go through the Instructor for permission.\n",
    "\n",
    "When a student has a permitted absence for lab, make-up labs will be arranged.  Make-up labs can come in the form of:\n",
    "\n",
    "1.  students attending alternative lab sessions during the same week (the attendance grade will still be recorded); or\n",
    "2.  alternative one-on-one time to finish the lab material."
   ]
  },
  {
   "cell_type": "markdown",
   "metadata": {
    "deletable": true,
    "editable": true
   },
   "source": [
    "### Submission for Lab#01"
   ]
  },
  {
   "cell_type": "markdown",
   "metadata": {
    "deletable": true,
    "editable": true
   },
   "source": [
    "<div class=\"alert alert-warning\">\n",
    "1.  **File name**: save and rename lab01.ipynb as `lab02_[your_student_ID].ipynb` after you're done and send it to `cs101homework@intl.zju.edu.cn`\n",
    "</div>\n",
    "<div class=\"alert alert-warning\">\n",
    "2. **Email title**: Please use the following format: `CS101-Lab02-Group[A1]-[your_student_ID]`. Unclear email titles may result in a credit penalty.\n",
    "</div>\n",
    "<div class=\"alert alert-warning\">\n",
    "3.  Hand in the handout to the instructor at the end of this lab session. Remember to write down your name, your student ID, and the lab section (lab#02) on the second page.\n",
    "</div>"
   ]
  }
 ],
 "metadata": {
  "anaconda-cloud": {},
  "kernelspec": {
   "display_name": "Python [Root]",
   "language": "python",
   "name": "Python [Root]"
  },
  "language_info": {
   "codemirror_mode": {
    "name": "ipython",
    "version": 3
   },
   "file_extension": ".py",
   "mimetype": "text/x-python",
   "name": "python",
   "nbconvert_exporter": "python",
   "pygments_lexer": "ipython3",
   "version": "3.5.2"
  }
 },
 "nbformat": 4,
 "nbformat_minor": 0
}
