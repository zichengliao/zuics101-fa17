{
 "cells": [
  {
   "cell_type": "markdown",
   "metadata": {},
   "source": [
    "## `lab02`—Expressions & Data"
   ]
  },
  {
   "cell_type": "markdown",
   "metadata": {},
   "source": [
    "**Objectives**\n",
    "\n",
    "-   Understand various ways of writing text as strings.\n",
    "-   Compose compound expressions to calculate mathematical formulae."
   ]
  },
  {
   "cell_type": "markdown",
   "metadata": {},
   "source": [
    "### How to write text"
   ]
  },
  {
   "cell_type": "markdown",
   "metadata": {},
   "source": [
    "Numbers are never enough—you use them to get the math right, but when it comes time to communicating the results to the outside world, you need text.  In programming terms, we refer to a block of text as a *string* (from a string of characters).  Some messages are hard-coded, like error messages; others will be generated as necessary by the program.\n",
    "\n",
    "Since we communicate with the Python intepreter using text commands, we also need a way to distinguish between instructions to the machine (code) and messages written as text (strings).  In other words, we need Python to distinguish between"
   ]
  },
  {
   "cell_type": "code",
   "execution_count": null,
   "metadata": {
    "collapsed": false
   },
   "outputs": [],
   "source": [
    "print(hello world)"
   ]
  },
  {
   "cell_type": "markdown",
   "metadata": {},
   "source": [
    "and"
   ]
  },
  {
   "cell_type": "code",
   "execution_count": null,
   "metadata": {
    "collapsed": false
   },
   "outputs": [],
   "source": [
    "print('hello world')"
   ]
  },
  {
   "cell_type": "markdown",
   "metadata": {},
   "source": [
    "The string holds the words within quotes as a single unit.  We typically write strings by surrounding our text in single quotes `''` or double quotes `\"\"`:"
   ]
  },
  {
   "cell_type": "code",
   "execution_count": null,
   "metadata": {
    "collapsed": false
   },
   "outputs": [],
   "source": [
    "'All that glitters is not gold.'"
   ]
  },
  {
   "cell_type": "code",
   "execution_count": null,
   "metadata": {
    "collapsed": false
   },
   "outputs": [],
   "source": [
    "'Who knows what evil lurks in the hearts of men?  The Shadow knows.'"
   ]
  },
  {
   "cell_type": "code",
   "execution_count": null,
   "metadata": {
    "collapsed": false
   },
   "outputs": [],
   "source": [
    "'I'm sorry, Dave, I'm afraid I can't do that.'"
   ]
  },
  {
   "cell_type": "markdown",
   "metadata": {},
   "source": [
    "That last one has a problem, doesn't it? We wrote a string by marking the ends with single quotes ', but then used a single quote inside of the string.  This thoroughly confused Python, as you can see by the red and black text mixed.\n",
    "\n",
    "This is why Python lets you use either single or double quotes:"
   ]
  },
  {
   "cell_type": "code",
   "execution_count": null,
   "metadata": {
    "collapsed": false
   },
   "outputs": [],
   "source": [
    "\"I'm afraid I can't do that.\""
   ]
  },
  {
   "cell_type": "code",
   "execution_count": null,
   "metadata": {
    "collapsed": false
   },
   "outputs": [],
   "source": [
    "'They Call the Wind \"Maria\"'"
   ]
  },
  {
   "cell_type": "markdown",
   "metadata": {},
   "source": [
    "Write the following phrases as Python strings.  (You can copy and paste the text itself into the string.)"
   ]
  },
  {
   "cell_type": "markdown",
   "metadata": {},
   "source": [
    "- George Orwell's novel 1984"
   ]
  },
  {
   "cell_type": "code",
   "execution_count": null,
   "metadata": {
    "collapsed": true,
    "nbgrader": {
     "grade": true,
     "grade_id": "string1",
     "locked": false,
     "points": 1,
     "solution": true
    }
   },
   "outputs": [],
   "source": []
  },
  {
   "cell_type": "markdown",
   "metadata": {},
   "source": [
    "- This is a straight double quote, \", while these are curly double quotes: “, ”."
   ]
  },
  {
   "cell_type": "code",
   "execution_count": null,
   "metadata": {
    "collapsed": false,
    "nbgrader": {
     "grade": true,
     "grade_id": "string2",
     "locked": false,
     "points": 1,
     "solution": true
    }
   },
   "outputs": [],
   "source": []
  },
  {
   "cell_type": "markdown",
   "metadata": {},
   "source": [
    "If things get really hairy, you can also use triple-quotes to mark a string:"
   ]
  },
  {
   "cell_type": "code",
   "execution_count": null,
   "metadata": {
    "collapsed": false
   },
   "outputs": [],
   "source": [
    "'''She then turned and asked the librarian, \"Do you have a copy of Diderot's and d'Alembert's Encyclopedie?\"'''"
   ]
  },
  {
   "cell_type": "markdown",
   "metadata": {},
   "source": [
    "<div class=\"alert alert-info\">\n",
    "Notice that the string returned by Python consists of *single quotes* wrapping a sentence containing *double quotes*, which then contain more *single quotes*.  The inner single quotes have a backslash in front of them—this is called an *escape character*, which is a fancy way of saying that the backslash tells Python to treat the single quote as a 'quote' rather than as marking the beginning or end of a string.\n",
    "</div>"
   ]
  },
  {
   "cell_type": "markdown",
   "metadata": {},
   "source": [
    "### How to store a value for future use"
   ]
  },
  {
   "cell_type": "markdown",
   "metadata": {},
   "source": [
    "In physics and engineering, we often worked with labeled unknowns, called *variables*.  This lets us refer to physical or mathematical values without knowing the value ahead of time.  For instance, the ideal gas law represents the relationship between pressure $P$, temperature $T$, and volume $V$, written as\n",
    "\n",
    "$$\n",
    "PV \\propto T \\text{.}\n",
    "$$\n",
    "\n",
    "We can express the relationship between these physical quantities without referring to specific values.\n",
    "\n",
    "For a computer, variables work much the same way—you can use them to write expressions and formulas, and you can use them to store the results of past calculations.  You create a variable using the assignment operator `=` and reuse it using the same name in subsequent expressions:"
   ]
  },
  {
   "cell_type": "code",
   "execution_count": null,
   "metadata": {
    "collapsed": true
   },
   "outputs": [],
   "source": [
    "x = 5"
   ]
  },
  {
   "cell_type": "code",
   "execution_count": null,
   "metadata": {
    "collapsed": false
   },
   "outputs": [],
   "source": [
    "x"
   ]
  },
  {
   "cell_type": "code",
   "execution_count": null,
   "metadata": {
    "collapsed": false
   },
   "outputs": [],
   "source": [
    "x**2"
   ]
  },
  {
   "cell_type": "code",
   "execution_count": null,
   "metadata": {
    "collapsed": false
   },
   "outputs": [],
   "source": [
    "x%2"
   ]
  },
  {
   "cell_type": "code",
   "execution_count": null,
   "metadata": {
    "collapsed": false
   },
   "outputs": [],
   "source": [
    "x**x"
   ]
  },
  {
   "cell_type": "code",
   "execution_count": null,
   "metadata": {
    "collapsed": false
   },
   "outputs": [],
   "source": [
    "x/x"
   ]
  },
  {
   "cell_type": "markdown",
   "metadata": {},
   "source": [
    "You update the value of a variable by simply overwriting it:"
   ]
  },
  {
   "cell_type": "code",
   "execution_count": null,
   "metadata": {
    "collapsed": true
   },
   "outputs": [],
   "source": [
    "x = 4.5"
   ]
  },
  {
   "cell_type": "code",
   "execution_count": null,
   "metadata": {
    "collapsed": false
   },
   "outputs": [],
   "source": [
    "x"
   ]
  },
  {
   "cell_type": "code",
   "execution_count": null,
   "metadata": {
    "collapsed": false
   },
   "outputs": [],
   "source": [
    "x**2"
   ]
  },
  {
   "cell_type": "markdown",
   "metadata": {},
   "source": [
    "In fact, you can even use a variable's *former* value to give it a *new* value:"
   ]
  },
  {
   "cell_type": "code",
   "execution_count": null,
   "metadata": {
    "collapsed": true
   },
   "outputs": [],
   "source": [
    "x = 2*x"
   ]
  },
  {
   "cell_type": "markdown",
   "metadata": {},
   "source": [
    "If you missed it in the second lecture, stop and think about this for a moment, because it's very important.  If you were to write down the mathematical statement\n",
    "\n",
    "$$\n",
    "x = 2x \\text{,}\n",
    "$$\n",
    "\n",
    "there is *no solution*—$x$ divides out of both sides and you are left with the mathematical absurdity $1=2$.  You should *not think* of the assignment operator as reading \"equals\".  That is, `x = 2x` should be read by you as \"`x` is made equal to the value of 2 times `x`\".\n",
    "\n",
    "<div class=\"alert alert-warning\">\n",
    "The *assignment* operator is a single equals sign, `=`, read \"is made equal to\".\n",
    "<br/>\n",
    "The *equality* operator is a double equals sign, `==`, read \"equals\".\n",
    "</div>"
   ]
  },
  {
   "cell_type": "markdown",
   "metadata": {},
   "source": [
    "As you saw in the lecture, you can use much more involved variable names, which is a great idea if you don't want to lose track of what you're doing."
   ]
  },
  {
   "cell_type": "code",
   "execution_count": null,
   "metadata": {
    "collapsed": true
   },
   "outputs": [],
   "source": [
    "trees_observed = 4\n",
    "max_torque = 5.0\n",
    "middleInitial = 'L'\n",
    "finalSum = 107\n",
    "way_to_Tipperary = 'east-north-east'\n",
    "warning_msg = \"I am Jack's medulla oblongata.\""
   ]
  },
  {
   "cell_type": "markdown",
   "metadata": {},
   "source": [
    "A few possible names do not, in fact, work:"
   ]
  },
  {
   "cell_type": "code",
   "execution_count": null,
   "metadata": {
    "collapsed": false
   },
   "outputs": [],
   "source": [
    "1st = 16.5"
   ]
  },
  {
   "cell_type": "code",
   "execution_count": null,
   "metadata": {
    "collapsed": false
   },
   "outputs": [],
   "source": [
    "$ = 2"
   ]
  },
  {
   "cell_type": "markdown",
   "metadata": {},
   "source": [
    "<div class=\"alert alert-warning\">\n",
    "The error that occurs in both of these cases, `SyntaxError`, generally means that you've mistyped something or tried to express something impossible by the rules of Pythonic syntax. Basically, as long as you use only letters, numbers, and the underscore `_` in your variable names, you'll be fine.\n",
    "</div>"
   ]
  },
  {
   "cell_type": "markdown",
   "metadata": {},
   "source": [
    "### How variables make your life easier"
   ]
  },
  {
   "cell_type": "markdown",
   "metadata": {},
   "source": [
    "Imagine writing a long script which depends on the value of a heat flux operator with the value $7.9 \\,\\text{watts}\\cdot\\text{meter}^{-2}\\cdot\\text{kelvin}$.  You dutifully write the statements to calculate the heat transfer through the wall with a difference of $\\Delta T = 1.2 \\,\\text{kelvin}$ using the value `7.9`:"
   ]
  },
  {
   "cell_type": "code",
   "execution_count": null,
   "metadata": {
    "collapsed": false
   },
   "outputs": [],
   "source": [
    "print(\"The heat transfer is %f W/m**2.\" % (7.9 * 1.2))"
   ]
  },
  {
   "cell_type": "markdown",
   "metadata": {},
   "source": [
    "You may have already noticed the problem here—what happens when the problem changes slightly and you need to use a different heat flux operator value?  This is where variables shine:\n",
    "\n",
    "$$\n",
    "q = h \\Delta T\n",
    "$$\n",
    "\n",
    "If you set things up properly, you will only have to define a value for $h$ and $\\Delta T$ once, at the beginning of your script, and it will be the same throughout the program.  Otherwise, you might have had to search and replace every single instance—and hope you didn't miss one!"
   ]
  },
  {
   "cell_type": "code",
   "execution_count": null,
   "metadata": {
    "collapsed": false
   },
   "outputs": [],
   "source": [
    "h = 7.9     # heat transfer coef, W/m^2/deg C\n",
    "DT = 1.2    # difference in temperature between fluid and surface, deg C\n",
    "q = h * DT  # heat flux or amount of heat transferred, W/m^2\n",
    "\n",
    "print(\"The heat transfer is %f W/m**2.\" % q)\n",
    "\n",
    "DT = 1.3\n",
    "q = h * DT  # heat flux or amount of heat transferred, W/m^2\n",
    "\n",
    "print(\"The heat transfer is %f W/m**2.\" % q)"
   ]
  },
  {
   "cell_type": "markdown",
   "metadata": {},
   "source": [
    "<div class=\"alert alert-info\">\n",
    "Note as well that since physical quantities always have physical dimensions, you should always document these with the value (or include a note to the effect that all values are [SI](https://en.wikipedia.org/wiki/International_System_of_Units), [CGS](https://en.wikipedia.org/wiki/Centimetre%E2%80%93gram%E2%80%93second_system_of_units), [FPS](https://en.wikipedia.org/wiki/Foot%E2%80%93pound%E2%80%93second_system), etc.).\n",
    "<pre><code>max_torque = 5.0  # N*m</code></pre>\n",
    "A brief explanation may be helpful as well:\n",
    "<pre><code>dx = 1e-2  # mesh discretization, m</code></pre>\n",
    "Form this habit now and it will serve you well as you begin writing code, scripts, and longer programs.\n",
    "</div>"
   ]
  },
  {
   "cell_type": "markdown",
   "metadata": {},
   "source": [
    "-   Correct the following code snippet to use variables `v` and `a` instead of hard-coded values."
   ]
  },
  {
   "cell_type": "code",
   "execution_count": null,
   "metadata": {
    "collapsed": true,
    "nbgrader": {
     "grade": false,
     "grade_id": "parameterize",
     "locked": false,
     "solution": true
    }
   },
   "outputs": [],
   "source": [
    "# modify this code\n",
    "# the base equation is:\n",
    "# d = v*t + 0.5*a*t*t\n",
    "t = 10.0\n",
    "d = 5.0 * t + 0.5 * -9.8 * t ** 2"
   ]
  },
  {
   "cell_type": "code",
   "execution_count": null,
   "metadata": {
    "collapsed": false,
    "nbgrader": {
     "grade": true,
     "grade_id": "parameterize-test",
     "locked": true,
     "points": 1,
     "solution": false
    }
   },
   "outputs": [],
   "source": [
    "# it should pass this test---do NOT edit this cell\n",
    "from numpy import isclose\n",
    "t = 10.0\n",
    "d = v*t + 0.5*a*t**2\n",
    "assert isclose(d, -440)\n",
    "print('Success!')"
   ]
  },
  {
   "cell_type": "markdown",
   "metadata": {},
   "source": [
    "### Building expressions using operators"
   ]
  },
  {
   "cell_type": "markdown",
   "metadata": {},
   "source": [
    "You've seen basic expressions in the lab and in the homework.  Let's build some more complicated expressions now to serve us in real model-building later."
   ]
  },
  {
   "cell_type": "markdown",
   "metadata": {},
   "source": [
    "-   Write an expression describing the quadratic formula,\n",
    "    $$\n",
    "    x = -b + \\frac{\\sqrt{b^2-4ac}}{2a} \\text{.}\n",
    "    $$\n",
    "    \n",
    "    Use the following variable values in your solution:"
   ]
  },
  {
   "cell_type": "code",
   "execution_count": null,
   "metadata": {
    "collapsed": true
   },
   "outputs": [],
   "source": [
    "a = 1\n",
    "b = 2\n",
    "c = 1"
   ]
  },
  {
   "cell_type": "code",
   "execution_count": null,
   "metadata": {
    "collapsed": true,
    "nbgrader": {
     "grade": false,
     "grade_id": "quad",
     "locked": false,
     "solution": true
    }
   },
   "outputs": [],
   "source": [
    "# write a formula for x here"
   ]
  },
  {
   "cell_type": "code",
   "execution_count": null,
   "metadata": {
    "collapsed": false,
    "nbgrader": {
     "grade": true,
     "grade_id": "quad-test",
     "locked": true,
     "points": 1,
     "solution": false
    }
   },
   "outputs": [],
   "source": [
    "# it should pass this test---do NOT edit this cell\n",
    "assert x == -2.0\n",
    "print('Success!')"
   ]
  },
  {
   "cell_type": "markdown",
   "metadata": {},
   "source": [
    "-   Write an expression describing the conversion of a degree/minute/second latitude value $d°m′s″$ into an equivalent decimal latitude value $\\ell$,\n",
    "    $$\n",
    "    \\ell = d + \\frac{m}{60} + \\frac{s}{3600} \\text{.}\n",
    "    $$\n",
    "    \n",
    "    Call your Python variable containing the result `lat` instead of `l`."
   ]
  },
  {
   "cell_type": "code",
   "execution_count": null,
   "metadata": {
    "collapsed": true
   },
   "outputs": [],
   "source": [
    "d = 22\n",
    "m = 30\n",
    "s = 120"
   ]
  },
  {
   "cell_type": "code",
   "execution_count": null,
   "metadata": {
    "collapsed": true,
    "nbgrader": {
     "grade": false,
     "grade_id": "dms",
     "locked": false,
     "solution": true
    }
   },
   "outputs": [],
   "source": [
    "# write a formula for lat here"
   ]
  },
  {
   "cell_type": "code",
   "execution_count": null,
   "metadata": {
    "collapsed": false,
    "nbgrader": {
     "grade": true,
     "grade_id": "dms-test",
     "locked": true,
     "points": 1,
     "solution": false
    }
   },
   "outputs": [],
   "source": [
    "# it should pass this test---do NOT edit this cell\n",
    "from numpy import isclose\n",
    "assert isclose(lat, 22.53333)\n",
    "print('Success!')"
   ]
  },
  {
   "cell_type": "markdown",
   "metadata": {},
   "source": [
    "-   Write an expression describing the period of a pendulum for small amplitudes,\n",
    "    $$\n",
    "    T = 2\\pi \\sqrt\\frac{L}{g} \\text{.}\n",
    "    $$"
   ]
  },
  {
   "cell_type": "code",
   "execution_count": null,
   "metadata": {
    "collapsed": true
   },
   "outputs": [],
   "source": [
    "from math import pi\n",
    "L = 0.72  # cm\n",
    "g = 9.8   # acceleration due to gravity."
   ]
  },
  {
   "cell_type": "code",
   "execution_count": null,
   "metadata": {
    "collapsed": true,
    "nbgrader": {
     "grade": false,
     "grade_id": "pend",
     "locked": false,
     "solution": true
    }
   },
   "outputs": [],
   "source": [
    "# write a formula for T here, using pi (and not an approximation)"
   ]
  },
  {
   "cell_type": "code",
   "execution_count": null,
   "metadata": {
    "collapsed": false,
    "nbgrader": {
     "grade": true,
     "grade_id": "pend-test",
     "locked": true,
     "points": 1,
     "solution": false
    }
   },
   "outputs": [],
   "source": [
    "# it should pass this test---do NOT edit this cell\n",
    "from numpy import isclose\n",
    "assert isclose(T, 1.70307)\n",
    "print('Success!')"
   ]
  },
  {
   "cell_type": "markdown",
   "metadata": {},
   "source": [
    "A very common pattern is to need to add a value to a variable, and then to store the result of that addition as a new variable. Consider:\n",
    "    \n",
    "    sum = 0\n",
    "    sum = sum + 5  # the value of sum is now 5\n",
    "    sum = sum + 4  # the value of sum is now 5 + 4 = 9\n",
    "    sum = sum + 3  # the value of sum is now 9 + 3 = 12\n",
    "\n",
    "Since this type of statement occurs a lot, Python has a shorthand way of writing the statement:\n",
    "    \n",
    "    sum += 5"
   ]
  },
  {
   "cell_type": "markdown",
   "metadata": {},
   "source": [
    "-   Using the `+=` and `-=` operators, add the following sequence of charges to the `charge` variable:\n",
    "    $$\n",
    "    +1, -2, -1, +2, +3\n",
    "    $$"
   ]
  },
  {
   "cell_type": "code",
   "execution_count": null,
   "metadata": {
    "collapsed": true
   },
   "outputs": [],
   "source": [
    "charge = +2  # ion charge"
   ]
  },
  {
   "cell_type": "code",
   "execution_count": null,
   "metadata": {
    "collapsed": true,
    "nbgrader": {
     "grade": false,
     "grade_id": "charge",
     "locked": false,
     "points": 1,
     "solution": true
    }
   },
   "outputs": [],
   "source": [
    "# write your series of +=, -= statements here"
   ]
  },
  {
   "cell_type": "code",
   "execution_count": null,
   "metadata": {
    "collapsed": false,
    "nbgrader": {
     "grade": true,
     "grade_id": "charge-test",
     "locked": true,
     "points": 1,
     "solution": false
    }
   },
   "outputs": [],
   "source": [
    "# it should pass this test---do NOT edit this cell\n",
    "assert charge == +5\n",
    "print('Success!')"
   ]
  }
 ],
 "metadata": {
  "anaconda-cloud": {},
  "kernelspec": {
   "display_name": "Python [Root]",
   "language": "python",
   "name": "Python [Root]"
  },
  "language_info": {
   "codemirror_mode": {
    "name": "ipython",
    "version": 3
   },
   "file_extension": ".py",
   "mimetype": "text/x-python",
   "name": "python",
   "nbconvert_exporter": "python",
   "pygments_lexer": "ipython3",
   "version": "3.5.2"
  }
 },
 "nbformat": 4,
 "nbformat_minor": 0
}
