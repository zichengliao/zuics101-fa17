{
 "cells": [
  {
   "cell_type": "code",
   "execution_count": 69,
   "metadata": {
    "collapsed": true
   },
   "outputs": [],
   "source": [
    "def fibo_a(n):\n",
    "    if n == 1 or n == 2:\n",
    "        return 1\n",
    "    else:\n",
    "        return fibo_a(n-1) + fibo_a(n-2)\n",
    "    \n",
    "def fibo_b(n):\n",
    "    if n == 1 or n == 2:\n",
    "        return 1\n",
    "    a, b = 1, 1\n",
    "    for i in range(3, n+1):\n",
    "        a, b = b, a+b\n",
    "    return b\n",
    "\n",
    "def fibo_c(n):\n",
    "    p = (1 + 5**0.5)/2\n",
    "    q = 1 - p\n",
    "    return int((p**n - q**n)/5**0.5  + 0.5)\n"
   ]
  },
  {
   "cell_type": "code",
   "execution_count": 70,
   "metadata": {},
   "outputs": [
    {
     "name": "stdout",
     "output_type": "stream",
     "text": [
      "55\n",
      "55\n",
      "55\n"
     ]
    }
   ],
   "source": [
    "print(fibo_a(10))\n",
    "print(fibo_b(10))\n",
    "print(fibo_c(10))"
   ]
  },
  {
   "cell_type": "code",
   "execution_count": 74,
   "metadata": {},
   "outputs": [
    {
     "name": "stdout",
     "output_type": "stream",
     "text": [
      "100 loops, best of 10: 17 µs per loop\n",
      "100 loops, best of 3: 2.02 ms per loop\n",
      "10 loops, best of 3: 253 ms per loop\n"
     ]
    }
   ],
   "source": [
    "import timeit\n",
    "%timeit -n 100 -r 10 fibo_a(10)\n",
    "%timeit -n 100 fibo_a(20)\n",
    "%timeit -n 10 fibo_a(30)"
   ]
  },
  {
   "cell_type": "code",
   "execution_count": 72,
   "metadata": {},
   "outputs": [
    {
     "name": "stdout",
     "output_type": "stream",
     "text": [
      "1000 loops, best of 3: 840 ns per loop\n",
      "1000 loops, best of 3: 6.6 µs per loop\n",
      "1000 loops, best of 3: 78.1 µs per loop\n"
     ]
    }
   ],
   "source": [
    "%timeit -n 1000 fibo_b(10)\n",
    "%timeit -n 1000 fibo_b(100)\n",
    "%timeit -n 1000 fibo_b(1000)"
   ]
  },
  {
   "cell_type": "code",
   "execution_count": 73,
   "metadata": {},
   "outputs": [
    {
     "name": "stdout",
     "output_type": "stream",
     "text": [
      "1000 loops, best of 3: 477 ns per loop\n",
      "1000 loops, best of 3: 508 ns per loop\n",
      "1000 loops, best of 3: 725 ns per loop\n"
     ]
    }
   ],
   "source": [
    "%timeit -n 1000 fibo_c(10)\n",
    "%timeit -n 1000 fibo_c(100)\n",
    "%timeit -n 1000 fibo_c(1000)"
   ]
  },
  {
   "cell_type": "code",
   "execution_count": null,
   "metadata": {
    "collapsed": true
   },
   "outputs": [],
   "source": []
  }
 ],
 "metadata": {
  "kernelspec": {
   "display_name": "Python 3",
   "language": "python",
   "name": "python3"
  },
  "language_info": {
   "codemirror_mode": {
    "name": "ipython",
    "version": 3
   },
   "file_extension": ".py",
   "mimetype": "text/x-python",
   "name": "python",
   "nbconvert_exporter": "python",
   "pygments_lexer": "ipython3",
   "version": "3.6.1"
  }
 },
 "nbformat": 4,
 "nbformat_minor": 2
}
