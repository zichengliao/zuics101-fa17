{
 "cells": [
  {
   "cell_type": "code",
   "execution_count": 9,
   "metadata": {
    "collapsed": true
   },
   "outputs": [],
   "source": [
    "def fibo_a(n):\n",
    "    if n == 1 or n == 2:\n",
    "        return 1\n",
    "    else:\n",
    "        return fibo_a(n-1) + fibo_a(n-2)\n",
    "    \n",
    "def fibo_b(n):\n",
    "    if n == 1 or n == 2:\n",
    "        return 1\n",
    "    a, b = 1,1\n",
    "    for i in range(3,n+1):\n",
    "        a,b = b, a+b\n",
    "    return b\n",
    "\n",
    "def fibo_c(n):\n",
    "    p = (1+ 5**0.5)/2\n",
    "    q = 1-p\n",
    "    return int((p**n - q**n)/5**0.5  + 0.5)\n"
   ]
  },
  {
   "cell_type": "code",
   "execution_count": 10,
   "metadata": {},
   "outputs": [
    {
     "name": "stdout",
     "output_type": "stream",
     "text": [
      "55\n",
      "55\n",
      "55\n"
     ]
    }
   ],
   "source": [
    "print(fibo_a(10))\n",
    "print(fibo_b(10))\n",
    "print(fibo_c(10))"
   ]
  },
  {
   "cell_type": "code",
   "execution_count": 24,
   "metadata": {},
   "outputs": [
    {
     "name": "stdout",
     "output_type": "stream",
     "text": [
      "1 loop, best of 3: 2.17 ms per loop\n"
     ]
    }
   ],
   "source": [
    "import timeit\n",
    "%timeit -n 1 fibo_a(20)"
   ]
  },
  {
   "cell_type": "code",
   "execution_count": 25,
   "metadata": {},
   "outputs": [
    {
     "name": "stdout",
     "output_type": "stream",
     "text": [
      "100 loops, best of 3: 1.42 µs per loop\n"
     ]
    }
   ],
   "source": [
    "%timeit -n 100 fibo_b(20) "
   ]
  },
  {
   "cell_type": "code",
   "execution_count": 26,
   "metadata": {},
   "outputs": [
    {
     "name": "stdout",
     "output_type": "stream",
     "text": [
      "100 loops, best of 3: 490 ns per loop\n"
     ]
    }
   ],
   "source": [
    "%timeit -n 100 fibo_c(20)"
   ]
  },
  {
   "cell_type": "code",
   "execution_count": null,
   "metadata": {
    "collapsed": true
   },
   "outputs": [],
   "source": []
  }
 ],
 "metadata": {
  "kernelspec": {
   "display_name": "Python 3",
   "language": "python",
   "name": "python3"
  },
  "language_info": {
   "codemirror_mode": {
    "name": "ipython",
    "version": 3
   },
   "file_extension": ".py",
   "mimetype": "text/x-python",
   "name": "python",
   "nbconvert_exporter": "python",
   "pygments_lexer": "ipython3",
   "version": "3.6.1"
  }
 },
 "nbformat": 4,
 "nbformat_minor": 2
}
