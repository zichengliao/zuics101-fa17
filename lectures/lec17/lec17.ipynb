{
 "cells": [
  {
   "cell_type": "code",
   "execution_count": null,
   "metadata": {
    "collapsed": true
   },
   "outputs": [],
   "source": [
    "import numpy as np\n",
    "import matplotlib.pyplot as plt\n",
    "%matplotlib inline\n",
    "x = np.random.randint(0,100,size=(10000,1))\n",
    "plt.hist(x)\n",
    "plt.show()"
   ]
  },
  {
   "cell_type": "code",
   "execution_count": null,
   "metadata": {
    "collapsed": true
   },
   "outputs": [],
   "source": [
    "import numpy as np\n",
    "np.random.randint(2, size=10)"
   ]
  },
  {
   "cell_type": "code",
   "execution_count": null,
   "metadata": {
    "collapsed": true
   },
   "outputs": [],
   "source": [
    "np.random.randint(1, size=10)"
   ]
  },
  {
   "cell_type": "code",
   "execution_count": null,
   "metadata": {
    "collapsed": true
   },
   "outputs": [],
   "source": [
    "np.random.randint(5, size=(2, 4))"
   ]
  },
  {
   "cell_type": "code",
   "execution_count": null,
   "metadata": {
    "collapsed": true
   },
   "outputs": [],
   "source": [
    "np.random.randint(5, size=(2, 4))"
   ]
  },
  {
   "cell_type": "code",
   "execution_count": null,
   "metadata": {
    "collapsed": true
   },
   "outputs": [],
   "source": [
    "import numpy as np\n",
    "import matplotlib.pyplot as plt\n",
    "%matplotlib inline\n",
    "x = np.random.randint(0,100,size=(10000,1))\n",
    "plt.hist(x)\n",
    "plt.show()"
   ]
  },
  {
   "cell_type": "code",
   "execution_count": null,
   "metadata": {
    "collapsed": true
   },
   "outputs": [],
   "source": [
    "import numpy as np\n",
    "number = np.random.randint(10)+1\n",
    "guess = input('Guess the number between 1 and 10:')\n",
    "while int(guess) != number:\n",
    "   guess = input('Nope. Try again:')\n",
    "print( 'You did it. Hooray.' )"
   ]
  },
  {
   "cell_type": "code",
   "execution_count": null,
   "metadata": {
    "collapsed": true
   },
   "outputs": [],
   "source": [
    "import numpy as np\n",
    "import matplotlib.pyplot as plt\n",
    "%matplotlib inline\n",
    "x = np.random.uniform( size=(10000,1) )\n",
    "plt.hist(x)\n",
    "plt.show()"
   ]
  },
  {
   "cell_type": "code",
   "execution_count": null,
   "metadata": {
    "collapsed": true
   },
   "outputs": [],
   "source": [
    "import numpy as np\n",
    "import matplotlib.pyplot as plt\n",
    "%matplotlib inline\n",
    "x = np.random.uniform( size=(10000,1) )\n",
    "plt.hist(x,bins=100)\n",
    "plt.show()"
   ]
  },
  {
   "cell_type": "code",
   "execution_count": null,
   "metadata": {
    "collapsed": true
   },
   "outputs": [],
   "source": [
    "import numpy as np\n",
    "import matplotlib.pyplot as plt\n",
    "%matplotlib inline\n",
    "x = np.random.randn( 10000 )\n",
    "plt.hist(x,bins=21)\n",
    "plt.xlim(-4,4)\n",
    "plt.show()"
   ]
  },
  {
   "cell_type": "code",
   "execution_count": null,
   "metadata": {
    "collapsed": true
   },
   "outputs": [],
   "source": [
    "import numpy as np\n",
    "x = np.arange(1,53)\n",
    "print(np.random.shuffle(x))"
   ]
  },
  {
   "cell_type": "code",
   "execution_count": null,
   "metadata": {
    "collapsed": true,
    "scrolled": true
   },
   "outputs": [],
   "source": [
    "import numpy as np\n",
    "x = np.arange(1,6)\n",
    "print(x)\n",
    "np.random.shuffle(x)\n",
    "print(x)\n",
    "np.random.shuffle(x)\n",
    "print(x)"
   ]
  },
  {
   "cell_type": "code",
   "execution_count": 158,
   "metadata": {
    "collapsed": true
   },
   "outputs": [],
   "source": [
    "import numpy as np\n",
    "\n",
    "adjs = []\n",
    "for line in open('adjectives.txt').readlines():\n",
    "    adjs.append( line.strip() )\n",
    "names = []\n",
    "for line in open('names.txt').readlines():\n",
    "    names.append( line.strip().split(',') )\n",
    "verbs = []\n",
    "for line in open('verbs.txt').readlines():\n",
    "    verbs.append( line.strip().split(',') )\n",
    "nouns = []\n",
    "for line in open('nouns.txt').readlines():\n",
    "    nouns.append( line.strip() )"
   ]
  },
  {
   "cell_type": "code",
   "execution_count": 162,
   "metadata": {},
   "outputs": [
    {
     "data": {
      "text/plain": [
       "[['improve', 'improved'],\n",
       " ['hand', 'handed'],\n",
       " ['grease', 'greased'],\n",
       " ['concentrate', 'concentrated'],\n",
       " ['moan', 'moaned'],\n",
       " ['last', 'lasted'],\n",
       " ['float', 'floated'],\n",
       " ['bat', 'batted'],\n",
       " ['sigh', 'sighed'],\n",
       " ['snatch', 'snatched'],\n",
       " ['explode', 'exploded'],\n",
       " ['smoke', 'smoked'],\n",
       " ['report', 'reported'],\n",
       " ['detect', 'detected'],\n",
       " ['trap', 'trapped'],\n",
       " ['rescue', 'rescued'],\n",
       " ['mug', 'mugged'],\n",
       " ['wink', 'winked'],\n",
       " ['film', 'filmed'],\n",
       " ['guard', 'guarded'],\n",
       " ['squeeze', 'squeezed'],\n",
       " ['excite', 'excited'],\n",
       " ['stroke', 'stroked'],\n",
       " ['untidy', 'untidied'],\n",
       " ['explain', 'explained']]"
      ]
     },
     "execution_count": 162,
     "metadata": {},
     "output_type": "execute_result"
    }
   ],
   "source": [
    "verbs"
   ]
  },
  {
   "cell_type": "code",
   "execution_count": 165,
   "metadata": {},
   "outputs": [
    {
     "name": "stdout",
     "output_type": "stream",
     "text": [
      "Jaded thunder Basil was so lying that he improved a care.\n"
     ]
    }
   ],
   "source": [
    "adj1 = adjs[np.random.randint(len(adjs))]  #np.random.choice(adjs)\n",
    "noun1 = nouns[np.random.randint(len(nouns))]\n",
    "name = names[np.random.randint(len(names))]\n",
    "verb = verbs[np.random.randint(len(verbs))]\n",
    "adj2 = adjs[np.random.randint(len(adjs))]\n",
    "noun2 = nouns[np.random.randint(len(nouns))]\n",
    "\n",
    "phrase = adj1.title() + ' ' + noun1 + ' ' + \\\n",
    "         name[0] + ' was so ' + adj2 + ' that ' + \\\n",
    "         name[1] + ' ' + verb[1] + ' a ' + \\\n",
    "         noun2 + '.'\n",
    "            \n",
    "print(phrase)"
   ]
  },
  {
   "cell_type": "code",
   "execution_count": null,
   "metadata": {
    "collapsed": true
   },
   "outputs": [],
   "source": []
  },
  {
   "cell_type": "code",
   "execution_count": 169,
   "metadata": {},
   "outputs": [
    {
     "data": {
      "image/png": "[encoded data removed]",
      "text/plain": [
       "<matplotlib.figure.Figure at 0x113b41278>"
      ]
     },
     "metadata": {},
     "output_type": "display_data"
    }
   ],
   "source": [
    "import numpy as np\n",
    "import matplotlib.pyplot as plt\n",
    "import time\n",
    "\n",
    "x = np.zeros( ( 1000,1 ) )\n",
    "y = np.zeros( ( 1000,1 ) )\n",
    "\n",
    "for t in range( 1,len(x) ):\n",
    "    dir = np.random.randint(4)\n",
    "    if dir == 0:\n",
    "        x[t] = x[t-1]\n",
    "        y[t] = y[t-1]+1\n",
    "    if dir == 1:\n",
    "        x[t] = x[t-1]+1\n",
    "        y[t] = y[t-1]\n",
    "    if dir == 2:\n",
    "        x[t] = x[t-1]\n",
    "        y[t] = y[t-1]-1\n",
    "    if dir == 3:\n",
    "        x[t] = x[t-1]-1\n",
    "        y[t] = y[t-1]\n",
    "\n",
    "plt.plot(x,y)\n",
    "plt.show()"
   ]
  },
  {
   "cell_type": "code",
   "execution_count": null,
   "metadata": {},
   "outputs": [],
   "source": [
    "import numpy as np\n",
    "import matplotlib.pyplot as plt\n",
    "import time\n",
    "\n",
    "x = np.arange(0,100)\n",
    "y = np.zeros((100,1))\n",
    "\n",
    "for t in range( 1,len(x) ):\n",
    "    dir = np.random.randint(2)\n",
    "    if dir == 0:\n",
    "        y[t] = y[t-1] + (1+3*np.random.randn(1)[0])\n",
    "    if dir == 1:\n",
    "        y[t] = y[t-1] + (-3+3*np.random.randn(1)[0])\n",
    "    \n",
    "\n",
    "plt.plot(x,y)\n",
    "plt.show()"
   ]
  },
  {
   "cell_type": "code",
   "execution_count": null,
   "metadata": {
    "collapsed": true
   },
   "outputs": [],
   "source": []
  },
  {
   "cell_type": "code",
   "execution_count": null,
   "metadata": {
    "collapsed": true
   },
   "outputs": [],
   "source": []
  }
 ],
 "metadata": {
  "kernelspec": {
   "display_name": "Python 3",
   "language": "python",
   "name": "python3"
  },
  "language_info": {
   "codemirror_mode": {
    "name": "ipython",
    "version": 3
   },
   "file_extension": ".py",
   "mimetype": "text/x-python",
   "name": "python",
   "nbconvert_exporter": "python",
   "pygments_lexer": "ipython3",
   "version": "3.6.1"
  }
 },
 "nbformat": 4,
 "nbformat_minor": 1
}
