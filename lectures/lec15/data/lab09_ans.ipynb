{
 "cells": [
  {
   "cell_type": "markdown",
   "metadata": {},
   "source": [
    "## `lab9`—Modeling Fluid Behavior"
   ]
  },
  {
   "cell_type": "markdown",
   "metadata": {},
   "source": [
    "❖ Objectives\n",
    "\n",
    "-   Use $n$-dimensional arrays to manage state data.\n",
    "-   Plot data.\n",
    "-   Create a model of scientific data."
   ]
  },
  {
   "cell_type": "markdown",
   "metadata": {},
   "source": [
    "In today's lab, you will implement various three fluid modeling laws.  You will then use these data to compare their results with real data and assess the relative accuracy of the various models."
   ]
  },
  {
   "cell_type": "markdown",
   "metadata": {},
   "source": [
    "##  Ideal Gas Law"
   ]
  },
  {
   "cell_type": "markdown",
   "metadata": {},
   "source": [
    "In the physical description of liquids and gases, it often becomes necessary to use a relationship between the pressure on a volume of fluid and its temperature.  The simplest of these relationships is the *ideal gas law*,\n",
    "\n",
    "$$PV = RT$$\n",
    "\n",
    "(for a specified number of molecules of the gas).\n",
    "\n",
    "The ideal gas law describes gases very well near atmospheric conditions and at lower pressures, but deviates from the true behavior of gases under other circumstances.  Since accurate descriptions of fluid flow, chemical reactivity, and oil field dynamics (among other things) depend on describing the state of a liquid, corrections are required."
   ]
  },
  {
   "cell_type": "markdown",
   "metadata": {},
   "source": [
    "1.  Write the ideal gas law as a function `pig` which accepts parameters `V` in cubic meters and `T` in degrees Kelvin (absolute temperature) and returns the corresponding `P`ressure in pascals.  $R = 8.314 \\,\\textrm{joule}\\cdot\\textrm{K}$, a proportionality constant."
   ]
  },
  {
   "cell_type": "code",
   "execution_count": 2,
   "metadata": {
    "collapsed": true,
    "nbgrader": {
     "grade": false,
     "grade_id": "pig",
     "locked": false,
     "solution": true
    }
   },
   "outputs": [],
   "source": [
    "# define your function here\n",
    "def pig(V, T):\n",
    "    \"\"\"\n",
    "    Return the ideal-gas pressure for a specified volume and temperature.\n",
    "    \n",
    "    Keyword arguments:\n",
    "    V -- volume, in cubic meters\n",
    "    T -- temperature, in Kelvin\n",
    "    \"\"\"\n",
    "    \n",
    "    R = 8.314  #joule.K\n",
    "    ## YOU WRITE THIS BLOCK\n",
    "    P = R*T/V\n",
    "    # Finally, return the ideal-gas pressure.\n",
    "    return P"
   ]
  },
  {
   "cell_type": "markdown",
   "metadata": {},
   "source": [
    "You may test your function against the following values:\n",
    "    \n",
    "| $P$/Pa | $V$/m$^3$ | $T$/K |\n",
    "|--------|-----------|-------|\n",
    "| 83140  | 0.01      | 100   |\n",
    "| 166280 | 0.01      | 200   |"
   ]
  },
  {
   "cell_type": "code",
   "execution_count": 3,
   "metadata": {},
   "outputs": [
    {
     "data": {
      "text/plain": [
       "226972.2"
      ]
     },
     "execution_count": 3,
     "metadata": {},
     "output_type": "execute_result"
    }
   ],
   "source": [
    "# test your code here\n",
    "pig(0.01, 273)"
   ]
  },
  {
   "cell_type": "code",
   "execution_count": 4,
   "metadata": {
    "nbgrader": {
     "grade": true,
     "grade_id": "pig-test1",
     "locked": true,
     "points": 1,
     "solution": false
    }
   },
   "outputs": [
    {
     "name": "stdout",
     "output_type": "stream",
     "text": [
      "Success!\n"
     ]
    }
   ],
   "source": [
    "# it should pass this test---do NOT edit this cell\n",
    "from numpy import isclose\n",
    "assert isclose(pig(0.01, 100), 83140)\n",
    "print('Success!')"
   ]
  },
  {
   "cell_type": "code",
   "execution_count": 5,
   "metadata": {
    "nbgrader": {
     "grade": true,
     "grade_id": "pig-test2",
     "locked": true,
     "points": 1,
     "solution": false
    }
   },
   "outputs": [
    {
     "name": "stdout",
     "output_type": "stream",
     "text": [
      "Success!\n"
     ]
    }
   ],
   "source": [
    "# it should pass this test---do NOT edit this cell\n",
    "from numpy import isclose\n",
    "assert isclose(pig(0.01, 200), 166280)\n",
    "print('Success!')"
   ]
  },
  {
   "cell_type": "markdown",
   "metadata": {},
   "source": [
    "##  Cubic Equations of State"
   ]
  },
  {
   "cell_type": "markdown",
   "metadata": {},
   "source": [
    "The true behavior of gases is extremely complex, but several equations have been introduced to model the gas characteristics approximately.  Among these so-called *equations of state* are the van der Waals equation of state<sup>[[Wikipedia](https://en.wikipedia.org/wiki/Equation_of_state#Van_der_Waals_equation_of_state)]</sup>,\n",
    "\n",
    "$$\n",
    "\\begin{align*}\n",
    "P_{\\text{vdW}} & = \\frac{RT}{V-b} - \\frac{a}{V^2} \\\\\n",
    "\\end{align*}\n",
    "$$\n",
    "\n",
    "and the Redlich–Kwong equation of state<sup>[[PhysicsWiki](http://physwiki.ucdavis.edu/Condensed_Matter/Equations_of_state/Redlich-Kwong_equation_of_state)]</sup>,\n",
    "\n",
    "$$\n",
    "\\begin{align*}\n",
    "P_{\\text{RK}} & = \\frac{RT}{V-b} - \\frac{a}{\\sqrt{T}V(V+b)} \\text{.} \\\\\n",
    "\\end{align*}\n",
    "$$\n",
    "\n",
    "(Constants $a$ and $b$ are specific to the gas being modeled:  that is, argon has a certain $a_\\text{Ar}$, $b_\\text{Ar}$; oxygen has a certain $a_{\\text{O}_2}$, $b_{\\text{O}_2}$, and so forth.  These typically use constants from the specific fluid known as the *critical temperature* $T_c$, *critical pressure* $P_c$, and *critical volume* $V_c$."
   ]
  },
  {
   "cell_type": "markdown",
   "metadata": {},
   "source": [
    "1.  Write the van der Waals equation of state as a function `pvdw` which accepts parameters `V`, `T`, `Tc`, and `Pc`, and returns the corresponding `P`ressure.\n",
    "    \n",
    "$$\n",
    "P_{\\text{vdW}} = \\frac{RT}{V-b} - \\frac{a}{V^2}\n",
    "\\hspace{2cm}\n",
    "a = \\frac{27}{64} \\frac{\\left(R T_c \\right)^{2}}{P_c}\n",
    "\\hspace{2cm}\n",
    "b = \\frac{R T_c}{8 P_c}\n",
    "\\text{.}\n",
    "$$"
   ]
  },
  {
   "cell_type": "code",
   "execution_count": 6,
   "metadata": {
    "collapsed": true,
    "nbgrader": {
     "grade": false,
     "grade_id": "pvdw",
     "locked": false,
     "solution": true
    }
   },
   "outputs": [],
   "source": [
    "# define your function here\n",
    "def pvdw(V,T,Tc,Pc):\n",
    "    \"\"\"\n",
    "    Return the van der Waals pressure for a specified volume and temperature.\n",
    "    \n",
    "    Keyword arguments:\n",
    "    V -- volume, in cubic meters\n",
    "    T -- temperature, in Kelvin\n",
    "    Tc -- critical temperature, in Kelvin\n",
    "    Pc -- critical pressure, in Kelvin\n",
    "    \"\"\"\n",
    "    \n",
    "    R = 8.314\n",
    "    \n",
    "    # Define parameters a and b.\n",
    "    ## YOU WRITE THIS BLOCK\n",
    "    a = 27/64*(R*Tc)**2/Pc\n",
    "    b = R*Tc/(8*Pc)\n",
    "    # Calculate the vdw pressure.\n",
    "    ## YOU WRITE THIS BLOCK\n",
    "    \n",
    "    \n",
    "    P = R*T/(V-b) - a/(V**2)\n",
    "    # Finally, return the vdw pressure.\n",
    "    return P"
   ]
  },
  {
   "cell_type": "markdown",
   "metadata": {},
   "source": [
    "You may test your function against the following values:\n",
    "    \n",
    "| $P$ | $V$ | $T$ | $T_c$ | $P_c$ |\n",
    "|-----|-----|-----|-------|-------|\n",
    "| 40057.7 | 0.056634 | 273.15 | 190.6 | 4599000 |\n",
    "| 47403.4 | 0.056634 | 323.15 | 190.6 | 4599000 |"
   ]
  },
  {
   "cell_type": "code",
   "execution_count": 7,
   "metadata": {},
   "outputs": [
    {
     "data": {
      "text/plain": [
       "225650.51904638868"
      ]
     },
     "execution_count": 7,
     "metadata": {},
     "output_type": "execute_result"
    }
   ],
   "source": [
    "# test your code here\n",
    "pvdw(0.01, 273, Tc=190.6, Pc=4599000)"
   ]
  },
  {
   "cell_type": "code",
   "execution_count": 8,
   "metadata": {
    "nbgrader": {
     "grade": true,
     "grade_id": "pvdw-test1",
     "locked": true,
     "points": 1,
     "solution": false
    }
   },
   "outputs": [
    {
     "name": "stdout",
     "output_type": "stream",
     "text": [
      "Success!\n"
     ]
    }
   ],
   "source": [
    "# it should pass this test---do NOT edit this cell\n",
    "from numpy import isclose\n",
    "assert isclose(pvdw(0.056634, 273.15, Tc=190.6, Pc=4599000), 40057.7)\n",
    "print('Success!')"
   ]
  },
  {
   "cell_type": "code",
   "execution_count": 9,
   "metadata": {
    "nbgrader": {
     "grade": true,
     "grade_id": "pvdw-test2",
     "locked": true,
     "points": 1,
     "solution": false
    }
   },
   "outputs": [
    {
     "name": "stdout",
     "output_type": "stream",
     "text": [
      "Success!\n"
     ]
    }
   ],
   "source": [
    "# it should pass this test---do NOT edit this cell\n",
    "from numpy import isclose\n",
    "assert isclose(pvdw(0.056634, 323.15, Tc=190.6, Pc=4599000), 47403.4)\n",
    "print('Success!')"
   ]
  },
  {
   "cell_type": "markdown",
   "metadata": {},
   "source": [
    "1.  Write the Redlich–Kwong equation of state as a function `prk` which accepts parameters `V`, `T`, `Tc`, and `Pc`, and returns the corresponding `P`ressure.  You should `import` `sqrt` from `numpy` (not from `math`) or use the `**0.5` notation.\n",
    "\n",
    "$$\n",
    "P_{\\text{RK}} = \\frac{RT}{V-b} - \\frac{a}{\\sqrt{T}V(V+b)}\n",
    "\\hspace{2cm}\n",
    "a = 0.42748 \\frac{R^{2} T_c^{2.5}}{P_c}\n",
    "\\hspace{2cm}\n",
    "b = 0.08662 \\frac{R T_c}{P_c}\n",
    "\\text{.}\n",
    "$$"
   ]
  },
  {
   "cell_type": "code",
   "execution_count": 10,
   "metadata": {
    "nbgrader": {
     "grade": false,
     "grade_id": "prk",
     "locked": false,
     "solution": true
    }
   },
   "outputs": [],
   "source": [
    "# define your function here\n",
    "def prk(V,T,Tc,Pc):\n",
    "    \"\"\"\n",
    "    Return the Redlich-Kwong pressure for a specified volume and temperature.\n",
    "    \n",
    "    Keyword arguments:\n",
    "    V -- volume, in cubic meters\n",
    "    T -- temperature, in Kelvin\n",
    "    Tc -- critical temperature, in Kelvin\n",
    "    Pc -- critical pressure, in Kelvin\n",
    "    \"\"\"\n",
    "    \n",
    "    R = 8.314\n",
    "    \n",
    "    # Define parameters a and b.  Note that a and b are different for prk and pvdw.\n",
    "    ## YOU WRITE THIS BLOCK\n",
    "    \n",
    "    a = 0.42748*R**2*Tc**2.5/Pc\n",
    "    b = 0.08662*R*Tc/Pc\n",
    "    \n",
    "    # Calculate the rk pressure.\n",
    "    ## YOU WRITE THIS BLOCK\n",
    "    P = R*T/(V-b) - a/(T**0.5*V*(V+b))\n",
    "    \n",
    "    # Finally, return the rk pressure.\n",
    "    return P"
   ]
  },
  {
   "cell_type": "markdown",
   "metadata": {},
   "source": [
    "You may test your function against the following values:\n",
    "    \n",
    "| $P$ | $V$ | $T$ | $T_c$ | $P_c$ |\n",
    "|-----|-----|-----|-------|-------|\n",
    "| 40059.4 | 0.056634 | 273.15 | 190.6 | 4599000 |\n",
    "| 47408.3 | 0.056634 | 323.15 | 190.6 | 4599000 |"
   ]
  },
  {
   "cell_type": "code",
   "execution_count": 11,
   "metadata": {},
   "outputs": [
    {
     "data": {
      "text/plain": [
       "225707.16886613565"
      ]
     },
     "execution_count": 11,
     "metadata": {},
     "output_type": "execute_result"
    }
   ],
   "source": [
    "# test your code here\n",
    "prk(0.01, 273, Tc=190.6, Pc=4599000)"
   ]
  },
  {
   "cell_type": "code",
   "execution_count": 12,
   "metadata": {
    "nbgrader": {
     "grade": true,
     "grade_id": "prk-test1",
     "locked": true,
     "points": 1,
     "solution": false
    }
   },
   "outputs": [
    {
     "name": "stdout",
     "output_type": "stream",
     "text": [
      "Success!\n"
     ]
    }
   ],
   "source": [
    "# it should pass this test---do NOT edit this cell\n",
    "from numpy import isclose\n",
    "assert isclose(prk(0.056634, 273.15, Tc=190.6, Pc=4599000), 40059.4)\n",
    "print('Success!')"
   ]
  },
  {
   "cell_type": "code",
   "execution_count": 13,
   "metadata": {
    "nbgrader": {
     "grade": true,
     "grade_id": "prk-test2",
     "locked": true,
     "points": 1,
     "solution": false
    }
   },
   "outputs": [
    {
     "name": "stdout",
     "output_type": "stream",
     "text": [
      "Success!\n"
     ]
    }
   ],
   "source": [
    "# it should pass this test---do NOT edit this cell\n",
    "from numpy import isclose\n",
    "assert isclose(prk(0.056634, 323.15, Tc=190.6, Pc=4599000), 47408.3)\n",
    "print('Success!')"
   ]
  },
  {
   "cell_type": "markdown",
   "metadata": {},
   "source": [
    "##  Modeling Data"
   ]
  },
  {
   "cell_type": "markdown",
   "metadata": {},
   "source": [
    "As you can see, there are subtle variations between these equations of state even at fairly low temperature and pressure.  Let's see what these do for various fluids.  Since we are working with various fluids with different properties, let's set up a dictionary to store the fluid parameters, in particular the critical temperature and pressure.\n",
    "\n",
    "Specifically, use a `dict` of `dict`s.  The outer `dict` has keys from the `Gas` column of the following table.  Each key has the value of another `dict`, this second `dict` containing keys `'Tc'` and `'Pc'` which contain the critical temperature and critical pressure, respectively.\n",
    "\n",
    "|  Gas  | $T_c$ |  $P_c$  |\n",
    "|-------|-------|---------|\n",
    "| `H2`    | 33.19 | 1313000 |\n",
    "| `O2`    | 154.6 | 5043000 |\n",
    "| `N2`    | 126.2 | 3400000 |\n",
    "| `CO2`   | 304.2 | 7383000 |\n",
    "| `Ar`    | 150.9 | 4894000 |\n",
    "| `C4H10` | 408.1 | 3648000 |\n",
    "\n",
    "To make this a repeatable process, write it as a function.\n",
    "\n",
    "-   Compose a function `gasdata` which accepts no parameters and `return`s a `dict` of `dict`s as described in the preceding paragraphs of this section."
   ]
  },
  {
   "cell_type": "code",
   "execution_count": 14,
   "metadata": {
    "collapsed": true,
    "nbgrader": {
     "grade": false,
     "grade_id": "gasdata",
     "locked": false,
     "solution": true
    }
   },
   "outputs": [],
   "source": [
    "# define your function here\n",
    "def gasdata():\n",
    "    # Create the dictionary.\n",
    "    gas_dict = {}\n",
    "    gas_dict['H2'] = {'Tc': 33.19, 'Pc': 1313000}\n",
    "    ## YOU WRITE THE REST OF THIS BLOCK\n",
    "    gas_dict['O2'] = {'Tc': 154.6, 'Pc': 5043000}\n",
    "    gas_dict['N2'] = {'Tc': 126.2, 'Pc': 3400000}\n",
    "    gas_dict['CO2'] = {'Tc': 304.2, 'Pc': 7383000}\n",
    "    gas_dict['Ar'] = {'Tc': 150.9, 'Pc': 4894000}\n",
    "    gas_dict['C4H10'] = {'Tc': 408.1, 'Pc': 3648000}\n",
    "    \n",
    "    # Finally, return the data dictionary.\n",
    "    return gas_dict"
   ]
  },
  {
   "cell_type": "code",
   "execution_count": 15,
   "metadata": {},
   "outputs": [
    {
     "data": {
      "text/plain": [
       "{'Pc': 1313000, 'Tc': 33.19}"
      ]
     },
     "execution_count": 15,
     "metadata": {},
     "output_type": "execute_result"
    }
   ],
   "source": [
    "# test your code here\n",
    "fluids = gasdata()\n",
    "fluids['H2']  # try the others as well to test"
   ]
  },
  {
   "cell_type": "code",
   "execution_count": 16,
   "metadata": {
    "nbgrader": {
     "grade": true,
     "grade_id": "gasdata-test",
     "locked": true,
     "points": 1,
     "solution": false
    }
   },
   "outputs": [
    {
     "name": "stdout",
     "output_type": "stream",
     "text": [
      "Success!\n"
     ]
    }
   ],
   "source": [
    "# it should pass this test---do NOT edit this cell\n",
    "try:\n",
    "    fluid_test = gasdata()\n",
    "    fluid_test['H2']['Tc']\n",
    "    fluid_test['O2']['Pc']\n",
    "    fluid_test['N2']['Tc']\n",
    "    fluid_test['CO2']['Pc']\n",
    "    fluid_test['Ar']['Tc']\n",
    "except KeyError:\n",
    "    raise AssertionError\n",
    "print('Success!')"
   ]
  },
  {
   "cell_type": "markdown",
   "metadata": {},
   "source": [
    "Now we can make our code more legible (always desirable):"
   ]
  },
  {
   "cell_type": "code",
   "execution_count": 17,
   "metadata": {},
   "outputs": [
    {
     "name": "stdout",
     "output_type": "stream",
     "text": [
      "310728.9000971877\n"
     ]
    }
   ],
   "source": [
    "fluids = gasdata()\n",
    "\n",
    "temp = 100 + 273.15  # 100 degC in K\n",
    "vol  = 0.01  # m**3\n",
    "pressure = prk(vol, temp, Tc=fluids['H2']['Tc'], Pc=fluids['H2']['Pc'])  # Pa\n",
    "print(pressure)"
   ]
  },
  {
   "cell_type": "markdown",
   "metadata": {},
   "source": [
    "Armed with\n",
    "\n",
    "-   several models of gas behavior (the equations of state)\n",
    "-   a database of fluid parameters\n",
    "\n",
    "we can make and test predictions.\n",
    "\n",
    "For ease-of-use, we will use NumPy arrays to store our data values.  (This allows us to perform *array operations*, that is, to multiply all elements in an array by a single value at the same time.)\n",
    "\n",
    "Since the NumPy lecture will happen during this week, let's take a quick look at how arrays work in Python."
   ]
  },
  {
   "cell_type": "code",
   "execution_count": 18,
   "metadata": {
    "collapsed": true
   },
   "outputs": [],
   "source": [
    "import numpy as np  # import the numpy library; for convenience, we rename it as something a bit easier to type\n",
    "np.set_printoptions(precision=5)  # sets floating-point number display to use only 5 digits after decimal point"
   ]
  },
  {
   "cell_type": "markdown",
   "metadata": {},
   "source": [
    "A NumPy array is a collection of numeric data that acts together as a unit.  (Think of a spreadsheet column, for instance.)\n",
    "\n",
    "![](./img/ndarray.png)\n",
    "\n",
    "The nice thing is that the array behaves much more intuitively than `list`s sometimes do:"
   ]
  },
  {
   "cell_type": "code",
   "execution_count": 19,
   "metadata": {},
   "outputs": [
    {
     "name": "stdout",
     "output_type": "stream",
     "text": [
      "list * 3: [1, 2, 3, 4, 1, 2, 3, 4, 1, 2, 3, 4]\n",
      "arrayt * 3: [ 3  6  9 12]\n"
     ]
    }
   ],
   "source": [
    "my_list = [1, 2, 3, 4]\n",
    "print('list * 3:', my_list * 3)\n",
    "\n",
    "my_array = np.array(my_list)\n",
    "print('arrayt * 3:', my_array * 3)"
   ]
  },
  {
   "cell_type": "markdown",
   "metadata": {},
   "source": [
    "So arrays are like mathematical vectors, or spreadsheet columns, or however you'd like to think of them.  The point being, they can be manipulated as a unit which allows us to calculate many values at the same time (rather than singly in a `for` loop).\n",
    "\n",
    "Contrast:"
   ]
  },
  {
   "cell_type": "code",
   "execution_count": 20,
   "metadata": {},
   "outputs": [
    {
     "name": "stdout",
     "output_type": "stream",
     "text": [
      "[2.0, 4.0, 6.0, 8.0]\n"
     ]
    }
   ],
   "source": [
    "new_list = []\n",
    "for value in my_list:\n",
    "    new_list.append(value * 2.0)\n",
    "print(new_list)"
   ]
  },
  {
   "cell_type": "markdown",
   "metadata": {},
   "source": [
    "with the much sleeker:"
   ]
  },
  {
   "cell_type": "code",
   "execution_count": 21,
   "metadata": {},
   "outputs": [
    {
     "name": "stdout",
     "output_type": "stream",
     "text": [
      "[ 2.  4.  6.  8.]\n"
     ]
    }
   ],
   "source": [
    "new_array = my_array * 2.0\n",
    "print(new_array)"
   ]
  },
  {
   "cell_type": "markdown",
   "metadata": {},
   "source": [
    "NumPy has become ubiquitous in scientific computing with Python for good reason, and we'll use it a lot in modeling over the next few weeks."
   ]
  },
  {
   "cell_type": "markdown",
   "metadata": {},
   "source": [
    "##  Modeling Fluids"
   ]
  },
  {
   "cell_type": "markdown",
   "metadata": {},
   "source": [
    "One potential reason to use equations of state is to assess the storage pressure in gas cylinders at various temperatures, thus allowing safety officials to set guidelines.  A representative cylinder can hold 44 liters, or $0.044\\,\\text{m}^3$ (use this latter value).\n",
    "\n",
    "In order to test the pressure across a range of temperatures, you should create an array of temperature points"
   ]
  },
  {
   "cell_type": "code",
   "execution_count": 22,
   "metadata": {},
   "outputs": [],
   "source": [
    "temps = np.array((273.15,  298.15,  323.15,  348.15,  373.15,  398.15))"
   ]
  },
  {
   "cell_type": "markdown",
   "metadata": {},
   "source": [
    "and then store the results for pressure for each data point in an appropriate array variable.  For instance, for the Redlich–Kwong equation of state, the results could be calculate as"
   ]
  },
  {
   "cell_type": "code",
   "execution_count": 23,
   "metadata": {},
   "outputs": [
    {
     "name": "stdout",
     "output_type": "stream",
     "text": [
      "[ 51584.45093  56313.01638  61041.30587  65769.3699   70497.24691\n",
      "  75224.96673]\n"
     ]
    }
   ],
   "source": [
    "fluids = gasdata()\n",
    "\n",
    "volume  = 0.044  # m**3\n",
    "pcyl_rk = prk(volume, temps, fluids['O2']['Tc'], fluids['O2']['Pc'])\n",
    "print(pcyl_rk)"
   ]
  },
  {
   "cell_type": "code",
   "execution_count": 24,
   "metadata": {},
   "outputs": [
    {
     "name": "stdout",
     "output_type": "stream",
     "text": [
      "[ 273.15  298.15  323.15  348.15  373.15  398.15]\n"
     ]
    }
   ],
   "source": [
    "print(temps)"
   ]
  },
  {
   "cell_type": "markdown",
   "metadata": {},
   "source": [
    "Notice the output is not a single value, but an array! \n",
    "\n",
    "In addition to viewing the data in a tabular format, it is often far more intuitive to depict the relationship graphically."
   ]
  },
  {
   "cell_type": "code",
   "execution_count": 25,
   "metadata": {
    "collapsed": true
   },
   "outputs": [],
   "source": [
    "# these are the modules and command you need to plot in Jupyter\n",
    "import matplotlib as mpl\n",
    "import matplotlib.pyplot as plt\n",
    "%matplotlib inline"
   ]
  },
  {
   "cell_type": "code",
   "execution_count": 26,
   "metadata": {},
   "outputs": [
    {
     "data": {
      "image/png": "[encoded data removed]",
      "text/plain": [
       "<matplotlib.figure.Figure at 0x7a85a20>"
      ]
     },
     "metadata": {},
     "output_type": "display_data"
    }
   ],
   "source": [
    "plt.plot(temps, pcyl_rk)  # define a basic plot, with x-values (temp) and y-values (pcyl_rk)\n",
    "plt.show()  # show the plot"
   ]
  },
  {
   "cell_type": "markdown",
   "metadata": {},
   "source": [
    "It will be convenient to measure the percent difference between two values,\n",
    "    \n",
    "$$\n",
    "\\%_\\text{error} = \\left|\\frac{s - t}{s}\\right| \\times 100\n",
    "$$\n",
    "    \n",
    "-   Compose a function `error` which accepts two `float`s `s` and `t` and returns the error as a percentage difference.  If you need to `import` any functions, use the `abs`olute value from `numpy`."
   ]
  },
  {
   "cell_type": "code",
   "execution_count": 27,
   "metadata": {
    "collapsed": true,
    "nbgrader": {
     "grade": false,
     "grade_id": "error",
     "locked": false,
     "solution": true
    }
   },
   "outputs": [],
   "source": [
    "# define your function here\n",
    "def error(s, t):\n",
    "    \"\"\"\n",
    "    Return the percentage difference between two values.\n",
    "    \n",
    "    Keyword arguments:\n",
    "    s, t -- numeric values to compare, with reference to the former.\n",
    "    \"\"\"\n",
    "    \n",
    "    ## YOU WRITE THE REST OF THIS BLOCK\n",
    "    err = abs((s-t)/s)*100\n",
    "    # Finally, return the percentage difference (the 'error').\n",
    "    return err"
   ]
  },
  {
   "cell_type": "code",
   "execution_count": 28,
   "metadata": {
    "nbgrader": {
     "grade": true,
     "grade_id": "error-test",
     "locked": true,
     "points": 1,
     "solution": false
    }
   },
   "outputs": [
    {
     "name": "stdout",
     "output_type": "stream",
     "text": [
      "Success!\n"
     ]
    }
   ],
   "source": [
    "# it should pass this test---do NOT edit this cell\n",
    "from numpy import isclose\n",
    "assert isclose(error(4,5), 25)\n",
    "print('Success!')"
   ]
  },
  {
   "cell_type": "markdown",
   "metadata": {},
   "source": [
    "At the right-most data point in the last data calculation (temperature $398.15\\,\\text{K}$, volume $0.044\\,\\text{m}^3$), what is the percent difference between the ideal-gas law and Redlich–Kwong calculations, using $P_\\text{ig}$ as the standard?  (We are modeling oxygen `'O2'` right now.)\n",
    "\n",
    "Directly:"
   ]
  },
  {
   "cell_type": "code",
   "execution_count": 142,
   "metadata": {},
   "outputs": [
    {
     "name": "stdout",
     "output_type": "stream",
     "text": [
      "0.009684073414949094\n"
     ]
    }
   ],
   "source": [
    "Pig = pig(0.044, 398.15)\n",
    "Prk = prk(0.044, 398.15, Tc=fluids['O2']['Tc'], Pc=fluids['O2']['Pc'])\n",
    "print(error(Pig, Prk))"
   ]
  },
  {
   "cell_type": "code",
   "execution_count": 143,
   "metadata": {},
   "outputs": [
    {
     "name": "stdout",
     "output_type": "stream",
     "text": [
      "75232.25227272727 75224.96672618546\n"
     ]
    }
   ],
   "source": [
    "print(Pig,Prk)"
   ]
  },
  {
   "cell_type": "markdown",
   "metadata": {},
   "source": [
    "Using the former array:"
   ]
  },
  {
   "cell_type": "code",
   "execution_count": 144,
   "metadata": {},
   "outputs": [
    {
     "name": "stdout",
     "output_type": "stream",
     "text": [
      "0.00968407341495\n"
     ]
    }
   ],
   "source": [
    "fluids = gasdata()\n",
    "\n",
    "volume  = 0.044  # m**3\n",
    "temps = np.array((273.15,  298.15,  323.15,  348.15,  373.15,  398.15))\n",
    "\n",
    "pcyl_rk = prk(volume, temps, fluids['O2']['Tc'], fluids['O2']['Pc'])\n",
    "pcyl_ig = pig(volume, temps)\n",
    "print(error(pcyl_ig[-1],pcyl_rk[-1]))"
   ]
  },
  {
   "cell_type": "markdown",
   "metadata": {},
   "source": [
    "The behavior is straightforward, just like with a list.\n",
    "\n",
    "The real power occurs when you want to know more than just a single point:"
   ]
  },
  {
   "cell_type": "code",
   "execution_count": 32,
   "metadata": {},
   "outputs": [
    {
     "name": "stdout",
     "output_type": "stream",
     "text": [
      "[ 0.05522  0.04223  0.03171  0.02304  0.0158   0.00969]\n"
     ]
    }
   ],
   "source": [
    "print(error(pcyl_rk, pcyl_ig))"
   ]
  },
  {
   "cell_type": "markdown",
   "metadata": {},
   "source": [
    "NumPy permits `error` to be applied over the entire range at one go.  You can plot it as well:"
   ]
  },
  {
   "cell_type": "code",
   "execution_count": 33,
   "metadata": {},
   "outputs": [
    {
     "data": {
      "image/png": "[encoded data removed]",
      "text/plain": [
       "<matplotlib.figure.Figure at 0x7d7dc50>"
      ]
     },
     "metadata": {},
     "output_type": "display_data"
    }
   ],
   "source": [
    "errors = error(pcyl_rk, pcyl_ig)\n",
    "plt.plot(temps, errors)  # define a basic plot, with x-values (temp) and y-values (pcyl_rk)\n",
    "plt.show()  # show the plot"
   ]
  },
  {
   "cell_type": "markdown",
   "metadata": {},
   "source": [
    "Using the tools we've developed thus far, let's examine our use-case scenario of gases stored in a standard cylinder.  To refresh:"
   ]
  },
  {
   "cell_type": "code",
   "execution_count": 135,
   "metadata": {
    "collapsed": true
   },
   "outputs": [],
   "source": [
    "fluids = gasdata()\n",
    "\n",
    "volume  = 0.044  # m**3\n",
    "temps = np.array((273.15,  298.15,  323.15,  348.15,  373.15,  398.15))\n",
    "\n",
    "pcyl_ig = pig(volume, temps)\n",
    "pcyl_rk = prk(volume, temps, Tc=fluids['O2']['Tc'], Pc=fluids['O2']['Pc'])"
   ]
  },
  {
   "cell_type": "markdown",
   "metadata": {},
   "source": [
    "You should also define the van der Waals pressure as `pcyl_vdw`."
   ]
  },
  {
   "cell_type": "code",
   "execution_count": 137,
   "metadata": {},
   "outputs": [],
   "source": [
    "# YOU DEFINE pcyl_vdw HERE\n",
    "pcyl_vdw =pvdw(volume, temps, Tc=fluids['O2']['Tc'], Pc=fluids['O2']['Pc'])"
   ]
  },
  {
   "cell_type": "markdown",
   "metadata": {},
   "source": [
    "-   Plot all three gas laws across the range of temperatures.  You need to modify the following code to do so. (The plot should have multiple curves, but you'll probably going to see just one; check why.)"
   ]
  },
  {
   "cell_type": "code",
   "execution_count": 138,
   "metadata": {
    "nbgrader": {
     "grade": true,
     "grade_id": "plt-all1",
     "locked": false,
     "points": 1,
     "solution": true
    }
   },
   "outputs": [
    {
     "data": {
      "image/png": "[encoded data removed]",
      "text/plain": [
       "<matplotlib.figure.Figure at 0x65f77b8>"
      ]
     },
     "metadata": {},
     "output_type": "display_data"
    }
   ],
   "source": [
    "plt.plot(temps, pcyl_ig,\n",
    "         temps, pcyl_rk,\n",
    "         temps, pcyl_vdw)\n",
    "plt.show()\n"
   ]
  },
  {
   "cell_type": "markdown",
   "metadata": {},
   "source": [
    "-   Now drop the volume by 90% to `0.0044` and calculate pressures at the same temperatures as above.  (Use the same variable names for `pcyl_ig`, etc.)  Plot the resulting error curves of `pcyl_ig` versus `pcyl_rk` and `pcyl_ig` versus `pcyl_vdw` across the range of temperature, both using `pcyl_ig` as the standard.  (There will be two curves in your plot.)"
   ]
  },
  {
   "cell_type": "code",
   "execution_count": 140,
   "metadata": {
    "nbgrader": {
     "grade": true,
     "grade_id": "plt-error1",
     "locked": false,
     "points": 1,
     "solution": true
    }
   },
   "outputs": [
    {
     "data": {
      "image/png": "[encoded data removed]",
      "text/plain": [
       "<matplotlib.figure.Figure at 0x7e8ea58>"
      ]
     },
     "metadata": {},
     "output_type": "display_data"
    }
   ],
   "source": [
    "# YOU RECALCULATE THE VARIABLES HERE\n",
    "volume  = 0.0044\n",
    "\n",
    "pcyl_ig = pig(volume, temps)\n",
    "pcyl_rk = prk(volume, temps, Tc=fluids['O2']['Tc'], Pc=fluids['O2']['Pc'])\n",
    "pcyl_vdw =pvdw(volume, temps, Tc=fluids['O2']['Tc'], Pc=fluids['O2']['Pc'])\n",
    "# YOU WRITE THE plt.plot STATEMENT\n",
    "errs = error(pcyl_ig, pcyl_rk)\n",
    "errs2 = error(pcyl_ig, pcyl_vdw)\n",
    "plt.plot(temps, errs, \n",
    "         temps, errs2)\n",
    "plt.show()"
   ]
  },
  {
   "cell_type": "markdown",
   "metadata": {},
   "source": [
    "Argon is considered to behave very closely to an ideal gas because it is a spherical one-atom molecule.\n",
    "\n",
    "Consider the pressure of argon in a small gas cylinder:"
   ]
  },
  {
   "cell_type": "code",
   "execution_count": 94,
   "metadata": {},
   "outputs": [
    {
     "data": {
      "image/png": "[encoded data removed]",
      "text/plain": [
       "<matplotlib.figure.Figure at 0x5f79128>"
      ]
     },
     "metadata": {},
     "output_type": "display_data"
    }
   ],
   "source": [
    "fluids = gasdata()\n",
    "\n",
    "volume = 0.044 # m**3\n",
    "temps = np.array((273.15,  298.15,  323.15,  348.15,  373.15,  398.15))\n",
    "\n",
    "pcyl_ig  = pig( volume, temps)\n",
    "pcyl_rk  = prk( volume, temps, Tc=fluids['Ar']['Tc'], Pc=fluids['Ar']['Pc'])\n",
    "pcyl_vdw = pvdw(volume, temps, Tc=fluids['Ar']['Tc'], Pc=fluids['Ar']['Pc'])\n",
    "\n",
    "plt.plot(temps, pcyl_ig,  'g-',\n",
    "         temps, pcyl_rk,  'r-',\n",
    "         temps, pcyl_vdw, 'b-')\n",
    "plt.show()"
   ]
  },
  {
   "cell_type": "markdown",
   "metadata": {},
   "source": [
    "-   Plot the resulting error curves of `pcyl_ig` versus `pcyl_rk` and `pcyl_ig` versus `pcyl_vdw` across the range of temperature.  (There will be two curves in your plot.)"
   ]
  },
  {
   "cell_type": "code",
   "execution_count": 95,
   "metadata": {
    "nbgrader": {
     "grade": true,
     "grade_id": "plt-argon1",
     "locked": false,
     "points": 1,
     "solution": true
    }
   },
   "outputs": [
    {
     "data": {
      "image/png": "[encoded data removed]",
      "text/plain": [
       "<matplotlib.figure.Figure at 0x866cda0>"
      ]
     },
     "metadata": {},
     "output_type": "display_data"
    }
   ],
   "source": [
    "# YOU WRITE THE plt.plot STATEMENT AND ANY NECESSARY CODE\n",
    "errs = error(pcyl_ig, pcyl_rk)\n",
    "errs2 = error(pcyl_ig, pcyl_vdw)\n",
    "plt.plot(temps, errs, temps, errs2)\n",
    "\n",
    "plt.show()"
   ]
  },
  {
   "cell_type": "markdown",
   "metadata": {},
   "source": [
    "Argon's behavior doesn't deviate much from ideality across this range of temperatures."
   ]
  },
  {
   "cell_type": "code",
   "execution_count": 96,
   "metadata": {},
   "outputs": [
    {
     "name": "stdout",
     "output_type": "stream",
     "text": [
      "0.00759049949622\n"
     ]
    }
   ],
   "source": [
    "errs = error(pcyl_ig[-1],pcyl_rk[-1])\n",
    "print(errs)"
   ]
  },
  {
   "cell_type": "markdown",
   "metadata": {},
   "source": [
    "In contrast, butane ($\\text{C}_4\\text{H}_{10}$, `C4H10`) is shaped like a Y and tends to behave very non-ideally.  It is a gas at room temperature and standard atmospheric pressure, but even in a tiny thin-shelled plastic lighter it is a liquid.  While we won't quantify the liquid–gas transition directly (which is a pretty involved calculation), we will see how far from ideality butane is."
   ]
  },
  {
   "cell_type": "code",
   "execution_count": 88,
   "metadata": {
    "scrolled": true
   },
   "outputs": [
    {
     "data": {
      "image/png": "[encoded data removed]",
      "text/plain": [
       "<matplotlib.figure.Figure at 0x6275ef0>"
      ]
     },
     "metadata": {},
     "output_type": "display_data"
    }
   ],
   "source": [
    "fluids = gasdata()\n",
    "\n",
    "volume = 0.044 # m**3\n",
    "temps = np.array((273.15,  298.15,  323.15,  348.15,  373.15,  398.15))\n",
    "pcyl_ig  = pig( volume, temps)\n",
    "pcyl_rk  = prk( volume, temps, Tc=fluids['C4H10']['Tc'], Pc=fluids['C4H10']['Pc'])\n",
    "pcyl_vdw = pvdw(volume, temps, Tc=fluids['C4H10']['Tc'], Pc=fluids['C4H10']['Pc'])\n",
    "\n",
    "plt.plot(temps, pcyl_ig,  'g-',\n",
    "         temps, pcyl_rk,  'r-',\n",
    "         temps, pcyl_vdw, 'b-')\n",
    "plt.show()"
   ]
  },
  {
   "cell_type": "markdown",
   "metadata": {},
   "source": [
    "-   Plot the resulting error curves of `pcyl_ig` versus `pcyl_rk` and `pcyl_ig` versus `pcyl_vdw` across the range of temperature.  (There will be two curves in your plot.)"
   ]
  },
  {
   "cell_type": "code",
   "execution_count": 89,
   "metadata": {
    "nbgrader": {
     "grade": true,
     "grade_id": "plt-butane1",
     "locked": false,
     "points": 1,
     "solution": true
    }
   },
   "outputs": [
    {
     "data": {
      "image/png": "[encoded data removed]",
      "text/plain": [
       "<matplotlib.figure.Figure at 0x8688390>"
      ]
     },
     "metadata": {},
     "output_type": "display_data"
    }
   ],
   "source": [
    "# YOU RECALCULATE THE VARIABLES HERE\n",
    "errs = error(pcyl_ig, pcyl_rk)\n",
    "errs2 = error(pcyl_ig, pcyl_vdw)\n",
    "plt.plot(temps, errs, \n",
    "         temps, errs2)\n",
    "\n",
    "# YOU WRITE THE plt.plot STATEMENT\n",
    "plt.show()"
   ]
  },
  {
   "cell_type": "markdown",
   "metadata": {},
   "source": [
    "Compared to argon or even oxygen, butane is pretty far away from ideality (the green line)."
   ]
  },
  {
   "cell_type": "markdown",
   "metadata": {},
   "source": [
    "-   At the right-most data point (temperature $398.15\\,\\text{K}$), what is the percent difference between the ideal-gas law and Redlich–Kwong for butane, using $P_\\text{ig}$ as the standard?  This is about 100 times worse of a match than argon to ideality."
   ]
  },
  {
   "cell_type": "code",
   "execution_count": 92,
   "metadata": {
    "nbgrader": {
     "grade": true,
     "grade_id": "error-butane1",
     "locked": false,
     "points": 1,
     "solution": true
    }
   },
   "outputs": [
    {
     "name": "stdout",
     "output_type": "stream",
     "text": [
      "0.752552525397\n"
     ]
    }
   ],
   "source": [
    "# WRITE ANY NECESSARY CODE HERE\n",
    "# STORE YOUR ANSWER IN THE VARIABLE `ans`\n",
    "errs = error(pcyl_ig[-1],pcyl_rk[-1])\n",
    "print(errs)"
   ]
  },
  {
   "cell_type": "markdown",
   "metadata": {},
   "source": [
    "Prior predictions were quite close to each other, within a few percent.  But for other cases they diverge dangerously (if one relies on the less-accurate equation).  Consider an amount of CO$_2$ gas compressed into the small volume of $0.000667\\,\\text{m}^3$ at a temperature of $248.15\\,\\text{K}$ ($-25\\,^{\\circ}\\text{C}$).\n",
    "\n",
    "-   What is the pressure according to the ideal-gas law?"
   ]
  },
  {
   "cell_type": "code",
   "execution_count": 76,
   "metadata": {
    "nbgrader": {
     "grade": true,
     "grade_id": "error-co21",
     "locked": false,
     "points": 1,
     "solution": true
    }
   },
   "outputs": [
    {
     "name": "stdout",
     "output_type": "stream",
     "text": [
      "3093132.083958021\n"
     ]
    }
   ],
   "source": [
    "# WRITE ANY NECESSARY CODE HERE\n",
    "# STORE YOUR ANSWER IN THE VARIABLE `ans`\n",
    "volume = 0.000667\n",
    "temps = 248.15\n",
    "ans  = pig( volume, temps)\n",
    "print(ans)"
   ]
  },
  {
   "cell_type": "markdown",
   "metadata": {},
   "source": [
    "-   What is the pressure according to the Redlich-Kwong gas law?"
   ]
  },
  {
   "cell_type": "code",
   "execution_count": 74,
   "metadata": {
    "nbgrader": {
     "grade": true,
     "grade_id": "error-co22",
     "locked": false,
     "points": 1,
     "solution": true
    }
   },
   "outputs": [
    {
     "name": "stdout",
     "output_type": "stream",
     "text": [
      "2354692.88969142\n"
     ]
    }
   ],
   "source": [
    "# WRITE ANY NECESSARY CODE HERE\n",
    "# STORE YOUR ANSWER IN THE VARIABLE `ans`\n",
    "volume = 0.000667\n",
    "temps = 248.15\n",
    "ans  = prk(volume, temps, Tc=fluids['CO2']['Tc'], Pc=fluids['CO2']['Pc'])\n",
    "print(ans)"
   ]
  },
  {
   "cell_type": "markdown",
   "metadata": {},
   "source": [
    "-   What is the pressure according to the van der Waals gas law?"
   ]
  },
  {
   "cell_type": "code",
   "execution_count": 75,
   "metadata": {
    "nbgrader": {
     "grade": true,
     "grade_id": "error-co23",
     "locked": false,
     "points": 1,
     "solution": true
    }
   },
   "outputs": [
    {
     "name": "stdout",
     "output_type": "stream",
     "text": [
      "2483769.9733843813\n"
     ]
    }
   ],
   "source": [
    "# WRITE ANY NECESSARY CODE HERE\n",
    "# STORE YOUR ANSWER IN THE VARIABLE `ans`\n",
    "volume = 0.000667\n",
    "temps = 248.15\n",
    "ans  = pvdw(volume, temps, Tc=fluids['CO2']['Tc'], Pc=fluids['CO2']['Pc'])\n",
    "print(ans)"
   ]
  },
  {
   "cell_type": "markdown",
   "metadata": {},
   "source": [
    "Clearly, at low temperatures and high pressures the laws start to break down, due to deviations from ideality and condensation.\n",
    "\n",
    "Let's go even more extreme:  take a volume of 10% of that, or `0.0000667`.  (At this absurdly small volume, one can expect very high pressures to be necessary to contain the fluid, and our results become unphysical at some point---but that point is not determinable from the equations themselves!)\n",
    "\n",
    "-   Plot the pressures of all three equations of state for CO$_{2}$ at across the temperature range $\\{100, 125, 150, 175, 200\\} \\,^{\\circ}\\text{C}$ for $V = 0.0000667 \\,\\text{m}^3$.  (Note that you will need to convert from degrees centigrade to Kelvin, $T[K] = T[^{\\circ}\\text{C}] + 273.15$.)"
   ]
  },
  {
   "cell_type": "code",
   "execution_count": 124,
   "metadata": {
    "nbgrader": {
     "grade": true,
     "grade_id": "error-co2-comp",
     "locked": false,
     "points": 1,
     "solution": true
    }
   },
   "outputs": [
    {
     "data": {
      "image/png": "[encoded data removed]",
      "text/plain": [
       "<matplotlib.figure.Figure at 0x65f8e80>"
      ]
     },
     "metadata": {},
     "output_type": "display_data"
    }
   ],
   "source": [
    "# YOU RECALCULATE THE VARIABLES HERE\n",
    "volume = 0.0000667\n",
    "temps = np.array((100,125,150,175,200))+273.15\n",
    "\n",
    "pcyl_ig  = pig( volume, temps)\n",
    "pcyl_rk  = prk( volume, temps, Tc=fluids['CO2']['Tc'], Pc=fluids['CO2']['Pc'])\n",
    "pcyl_vdw = pvdw(volume, temps, Tc=fluids['CO2']['Tc'], Pc=fluids['CO2']['Pc'])\n",
    "\n",
    "# YOU WRITE THE plt.plot STATEMENT\n",
    "plt.plot(temps, pcyl_ig,  'g-',\n",
    "         temps, pcyl_rk,  'r-',\n",
    "         temps, pcyl_vdw, 'b-')\n",
    "plt.show()"
   ]
  },
  {
   "cell_type": "markdown",
   "metadata": {
    "collapsed": true
   },
   "source": [
    "-   At $T = 500\\,\\text{K}$, $V = 0.0000667 \\,\\text{m}^3$ for CO$_{2}$, what is the percent difference between the ideal-gas law and Redlich–Kwong, using $P_\\text{ig}$ as the standard?"
   ]
  },
  {
   "cell_type": "code",
   "execution_count": 131,
   "metadata": {
    "nbgrader": {
     "grade": true,
     "grade_id": "compress1",
     "locked": false,
     "points": 1,
     "solution": true
    }
   },
   "outputs": [
    {
     "name": "stdout",
     "output_type": "stream",
     "text": [
      "8.028639869536356\n"
     ]
    }
   ],
   "source": [
    "# WRITE ANY NECESSARY CODE HERE\n",
    "# STORE YOUR ANSWER IN THE VARIABLE `ans`\n",
    "temps = 500\n",
    "volume = 0.0000667\n",
    "pcyl_ig  = pig( volume, temps)\n",
    "pcyl_rk  = prk( volume, temps, Tc=fluids['CO2']['Tc'], Pc=fluids['CO2']['Pc'])\n",
    "err = error(pcyl_ig,pcyl_rk)\n",
    "print(err)"
   ]
  },
  {
   "cell_type": "markdown",
   "metadata": {
    "collapsed": true
   },
   "source": [
    "-   Under the same conditions for CO$_{2}$, what is the percent difference between the ideal-gas law and the van der Waals law, using $P_\\text{ig}$ as the standard?"
   ]
  },
  {
   "cell_type": "code",
   "execution_count": 132,
   "metadata": {
    "nbgrader": {
     "grade": true,
     "grade_id": "compress2",
     "locked": false,
     "points": 1,
     "solution": true
    }
   },
   "outputs": [
    {
     "name": "stdout",
     "output_type": "stream",
     "text": [
      "47.492227581906995\n"
     ]
    }
   ],
   "source": [
    "# WRITE ANY NECESSARY CODE HERE\n",
    "# STORE YOUR ANSWER IN THE VARIABLE `ans`\n",
    "pcyl_vdw = pvdw(volume, temps, Tc=fluids['CO2']['Tc'], Pc=fluids['CO2']['Pc'])\n",
    "err = error(pcyl_ig,pcyl_vdw)\n",
    "print(err)"
   ]
  },
  {
   "cell_type": "markdown",
   "metadata": {},
   "source": [
    "-   Plot the pressures of all three equations of state for CO$_{2}$ across the temperature range $\\{100, 110, 120, ..., 390, 400\\} \\,\\text{K}$ for $V = 0.0000667 \\,\\text{m}^3$.  Use `np.linspace` to construct the range.\n",
    "-   And then plot error curves of pcyl_ig versus pcyl_rk, and pcyl_ig versus pcyl_vdw across the range of temperature. (There will be two plots.)"
   ]
  },
  {
   "cell_type": "code",
   "execution_count": 156,
   "metadata": {
    "nbgrader": {
     "grade": true,
     "grade_id": "temps-all",
     "locked": false,
     "points": 1,
     "solution": true
    }
   },
   "outputs": [
    {
     "data": {
      "image/png": "[encoded data removed]",
      "text/plain": [
       "<matplotlib.figure.Figure at 0x5ffd1d0>"
      ]
     },
     "metadata": {},
     "output_type": "display_data"
    },
    {
     "data": {
      "image/png": "[encoded data removed]",
      "text/plain": [
       "<matplotlib.figure.Figure at 0x7ebb6d8>"
      ]
     },
     "metadata": {},
     "output_type": "display_data"
    },
    {
     "name": "stdout",
     "output_type": "stream",
     "text": [
      "[ 100.  110.  120.  130.  140.  150.  160.  170.  180.  190.  200.  210.\n",
      "  220.  230.  240.  250.  260.  270.  280.  290.  300.  310.  320.  330.\n",
      "  340.  350.  360.  370.  380.  390.  400.]\n"
     ]
    }
   ],
   "source": [
    "# range to use (for x-values)\n",
    "temps = np.linspace(100,400,31)  # `linspace` conveniently breaks a range in N pieces---in this case, 31 divisions from 100 to 400\n",
    "volume = 0.0000667\n",
    "\n",
    "# YOU RECALCULATE THE VARIABLES HERE\n",
    "pcyl_ig  = pig(volume, temps)\n",
    "pcyl_rk  = prk(volume, temps, Tc=fluids['CO2']['Tc'], Pc=fluids['CO2']['Pc'])\n",
    "pcyl_vdw = pvdw(volume, temps, Tc=fluids['CO2']['Tc'], Pc=fluids['CO2']['Pc'])\n",
    "\n",
    "# YOU WRITE THE plt.plot STATEMENT\n",
    "plt.plot(temps, pcyl_ig,  'g-',\n",
    "         temps, pcyl_rk,  'r-',\n",
    "         temps, pcyl_vdw, 'b-')\n",
    "plt.show()\n",
    "\n",
    "err = error(pcyl_ig, pcyl_rk)\n",
    "err2 = error(pcyl_ig, pcyl_vdw)\n",
    "plt.plot(temps, err, 'r-',\n",
    "         temps, err2, 'b-')\n",
    "plt.show()\n",
    "\n",
    "print(temps)"
   ]
  },
  {
   "cell_type": "markdown",
   "metadata": {},
   "source": [
    "Equations of state find broad application, but it's clear that you as an engineer need to understand the differences between them, the ranges of applicability, and the risks of under- or overestimating the pressure–temperature relationship in order to carry out sound engineering."
   ]
  },
  {
   "cell_type": "markdown",
   "metadata": {},
   "source": [
    "Last try: now plot error curves of pcyl_rk versus pcyl_ig (pcyl_rk as the standard), and pcyl_vdw versus pcyl_ig (pcyl_vdw as the standard) across the range of temperature. Compare this result to the curves in the previous plot. And think:\n",
    "-   Why do they look so different?\n",
    "-   How to explain the two spikes in the new plot?"
   ]
  },
  {
   "cell_type": "code",
   "execution_count": 154,
   "metadata": {
    "scrolled": true
   },
   "outputs": [
    {
     "data": {
      "image/png": "[encoded data removed]",
      "text/plain": [
       "<matplotlib.figure.Figure at 0x863e4e0>"
      ]
     },
     "metadata": {},
     "output_type": "display_data"
    }
   ],
   "source": [
    "err = error(pcyl_rk,pcyl_ig)\n",
    "err2 = error(pcyl_vdw, pcyl_ig)\n",
    "plt.plot(temps, err, 'r-',\n",
    "         temps, err2, 'b-')\n",
    "plt.show()"
   ]
  }
 ],
 "metadata": {
  "anaconda-cloud": {},
  "kernelspec": {
   "display_name": "Python 2",
   "language": "python",
   "name": "python2"
  },
  "language_info": {
   "codemirror_mode": {
    "name": "ipython",
    "version": 2
   },
   "file_extension": ".py",
   "mimetype": "text/x-python",
   "name": "python",
   "nbconvert_exporter": "python",
   "pygments_lexer": "ipython2",
   "version": "2.7.13"
  }
 },
 "nbformat": 4,
 "nbformat_minor": 1
}
